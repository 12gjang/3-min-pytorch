{
 "cells": [
  {
   "cell_type": "markdown",
   "metadata": {},
   "source": [
    "# 4.3 오버피팅과 정규화 (Overfitting and Regularization)\n",
    "\n",
    "머신러닝 모델\n",
    "과적합(Overfitting)"
   ]
  },
  {
   "cell_type": "code",
   "execution_count": 1,
   "metadata": {},
   "outputs": [],
   "source": [
    "import torch\n",
    "import torch.nn as nn\n",
    "import torch.optim as optim\n",
    "import torch.nn.functional as F\n",
    "from torchvision import transforms, datasets"
   ]
  },
  {
   "cell_type": "code",
   "execution_count": 2,
   "metadata": {},
   "outputs": [],
   "source": [
    "USE_CUDA = torch.cuda.is_available()\n",
    "DEVICE = torch.device(\"cuda\" if USE_CUDA else \"cpu\")"
   ]
  },
  {
   "cell_type": "code",
   "execution_count": 3,
   "metadata": {},
   "outputs": [],
   "source": [
    "EPOCHS = 50\n",
    "BATCH_SIZE = 64"
   ]
  },
  {
   "cell_type": "markdown",
   "metadata": {},
   "source": [
    "## 데이터셋에 노이즈 추가하기\n",
    "\n",
    "![original.png](./assets/original.png)\n",
    "\n",
    "![horizontalflip.png](./assets/horizontalflip.png)"
   ]
  },
  {
   "cell_type": "code",
   "execution_count": 4,
   "metadata": {},
   "outputs": [],
   "source": [
    "train_loader = torch.utils.data.DataLoader(\n",
    "    datasets.MNIST('./.data',\n",
    "                   train=True,\n",
    "                   download=True,\n",
    "                   transform=transforms.Compose([\n",
    "                       transforms.RandomHorizontalFlip(),\n",
    "                       transforms.ToTensor(),\n",
    "                       transforms.Normalize((0.1307,), (0.3081,))\n",
    "                   ])),\n",
    "    batch_size=BATCH_SIZE, shuffle=True)\n",
    "test_loader = torch.utils.data.DataLoader(\n",
    "    datasets.MNIST('./.data',\n",
    "                   train=False, \n",
    "                   transform=transforms.Compose([\n",
    "                       transforms.ToTensor(),\n",
    "                       transforms.Normalize((0.1307,), (0.3081,))\n",
    "                   ])),\n",
    "    batch_size=BATCH_SIZE, shuffle=True)"
   ]
  },
  {
   "cell_type": "markdown",
   "metadata": {},
   "source": [
    "## 뉴럴넷으로 Fashion MNIST 학습하기\n",
    "\n",
    "입력 `x` 는 `[배치크기, 색, 높이, 넓이]`로 이루어져 있습니다.\n",
    "`x.size()`를 해보면 `[64, 1, 28, 28]`이라고 표시되는 것을 보실 수 있습니다.\n",
    "Fashion MNIST에서 이미지의 크기는 28 x 28, 색은 흑백으로 1 가지 입니다.\n",
    "그러므로 입력 x의 총 특성값 갯수는 28 x 28 x 1, 즉 784개 입니다.\n",
    "\n",
    "우리가 사용할 모델은 3개의 레이어를 가진 뉴럴네트워크 입니다. "
   ]
  },
  {
   "cell_type": "code",
   "execution_count": 5,
   "metadata": {},
   "outputs": [],
   "source": [
    "class Net(nn.Module):\n",
    "    def __init__(self, dropout_p=0.2):\n",
    "        super(Net, self).__init__()\n",
    "        self.fc1 = nn.Linear(784, 256)\n",
    "        self.fc2 = nn.Linear(256, 128)\n",
    "        self.fc3 = nn.Linear(128, 10)\n",
    "        # 드롭아웃 확률\n",
    "        self.dropout_p = dropout_p\n",
    "\n",
    "    def forward(self, x):\n",
    "        x = x.view(-1, 784)\n",
    "        x = F.relu(self.fc1(x))\n",
    "        # 드롭아웃 추가\n",
    "        x = F.dropout(x, training=self.training,\n",
    "                      p=self.dropout_p)\n",
    "        x = F.relu(self.fc2(x))\n",
    "        # 드롭아웃 추가\n",
    "        x = F.dropout(x, training=self.training,\n",
    "                      p=self.dropout_p)\n",
    "        x = self.fc3(x)\n",
    "        return x"
   ]
  },
  {
   "cell_type": "markdown",
   "metadata": {},
   "source": [
    "## 모델 준비하기 \n",
    "\n",
    "`to()` 함수는 모델의 파라미터들을 지정한 곳으로 보내는 역할을 합니다.\n",
    "일반적으로 CPU 1개만 사용할 경우 필요는 없지만,\n",
    "GPU를 사용하고자 하는 경우 `to(\"cuda\")`로 지정하여 GPU로 보내야 합니다.\n",
    "지정하지 않을 경우 계속 CPU에 남아 있게 되며 빠른 훈련의 이점을 누리실 수 없습니다.\n",
    "\n",
    "최적화 알고리즘으로 파이토치에 내장되어 있는 `optim.SGD`를 사용하겠습니다."
   ]
  },
  {
   "cell_type": "code",
   "execution_count": 6,
   "metadata": {},
   "outputs": [],
   "source": [
    "model        = Net(dropout_p=0.2).to(DEVICE)\n",
    "optimizer    = optim.SGD(model.parameters(), lr=0.01)"
   ]
  },
  {
   "cell_type": "markdown",
   "metadata": {},
   "source": [
    "## 학습하기"
   ]
  },
  {
   "cell_type": "code",
   "execution_count": 7,
   "metadata": {},
   "outputs": [],
   "source": [
    "def train(model, train_loader, optimizer):\n",
    "    model.train()\n",
    "    for batch_idx, (data, target) in enumerate(train_loader):\n",
    "        data, target = data.to(DEVICE), target.to(DEVICE)\n",
    "        optimizer.zero_grad()\n",
    "        output = model(data)\n",
    "        loss = F.cross_entropy(output, target)\n",
    "        loss.backward()\n",
    "        optimizer.step()"
   ]
  },
  {
   "cell_type": "markdown",
   "metadata": {},
   "source": [
    "## 테스트하기\n"
   ]
  },
  {
   "cell_type": "code",
   "execution_count": 8,
   "metadata": {},
   "outputs": [],
   "source": [
    "def evaluate(model, test_loader):\n",
    "    model.eval()\n",
    "    test_loss = 0\n",
    "    correct = 0\n",
    "    with torch.no_grad():\n",
    "        for data, target in test_loader:\n",
    "            data, target = data.to(DEVICE), target.to(DEVICE)\n",
    "            output = model(data)\n",
    "            test_loss += F.cross_entropy(output, target,\n",
    "                                         size_average=False).item()\n",
    "            \n",
    "            # 맞춘 갯수 계산\n",
    "            pred = output.max(1, keepdim=True)[1]\n",
    "            correct += pred.eq(target.view_as(pred)).sum().item()\n",
    "\n",
    "    test_loss /= len(test_loader.dataset)\n",
    "    test_accuracy = 100. * correct / len(test_loader.dataset)\n",
    "    return test_loss, test_accuracy"
   ]
  },
  {
   "cell_type": "markdown",
   "metadata": {},
   "source": [
    "## 코드 돌려보기\n",
    "\n",
    "자, 이제 모든 준비가 끝났습니다. 코드를 돌려서 실제로 훈련이 되는지 확인해봅시다!"
   ]
  },
  {
   "cell_type": "code",
   "execution_count": 9,
   "metadata": {},
   "outputs": [
    {
     "name": "stderr",
     "output_type": "stream",
     "text": [
      "/home/keon/3-min-pytorch/env/local/lib/python3.7/site-packages/torch/nn/_reduction.py:43: UserWarning: size_average and reduce args will be deprecated, please use reduction='sum' instead.\n",
      "  warnings.warn(warning.format(ret))\n"
     ]
    },
    {
     "name": "stdout",
     "output_type": "stream",
     "text": [
      "[1] Test Loss: 0.5441, Accuracy: 82.98%\n",
      "[2] Test Loss: 0.4254, Accuracy: 86.30%\n",
      "[3] Test Loss: 0.3493, Accuracy: 89.21%\n",
      "[4] Test Loss: 0.2960, Accuracy: 90.66%\n",
      "[5] Test Loss: 0.2499, Accuracy: 92.24%\n",
      "[6] Test Loss: 0.2214, Accuracy: 93.27%\n",
      "[7] Test Loss: 0.2045, Accuracy: 93.77%\n",
      "[8] Test Loss: 0.1904, Accuracy: 94.15%\n",
      "[9] Test Loss: 0.1760, Accuracy: 94.69%\n",
      "[10] Test Loss: 0.1656, Accuracy: 94.73%\n",
      "[11] Test Loss: 0.1608, Accuracy: 94.81%\n",
      "[12] Test Loss: 0.1546, Accuracy: 95.16%\n",
      "[13] Test Loss: 0.1480, Accuracy: 95.20%\n",
      "[14] Test Loss: 0.1424, Accuracy: 95.57%\n",
      "[15] Test Loss: 0.1373, Accuracy: 95.60%\n",
      "[16] Test Loss: 0.1352, Accuracy: 95.72%\n",
      "[17] Test Loss: 0.1281, Accuracy: 95.93%\n",
      "[18] Test Loss: 0.1245, Accuracy: 96.08%\n",
      "[19] Test Loss: 0.1244, Accuracy: 96.18%\n",
      "[20] Test Loss: 0.1183, Accuracy: 96.29%\n",
      "[21] Test Loss: 0.1194, Accuracy: 96.23%\n",
      "[22] Test Loss: 0.1147, Accuracy: 96.38%\n",
      "[23] Test Loss: 0.1107, Accuracy: 96.51%\n",
      "[24] Test Loss: 0.1110, Accuracy: 96.46%\n",
      "[25] Test Loss: 0.1087, Accuracy: 96.58%\n",
      "[26] Test Loss: 0.1056, Accuracy: 96.72%\n",
      "[27] Test Loss: 0.1051, Accuracy: 96.62%\n",
      "[28] Test Loss: 0.1030, Accuracy: 96.74%\n",
      "[29] Test Loss: 0.0998, Accuracy: 96.82%\n",
      "[30] Test Loss: 0.1027, Accuracy: 96.84%\n",
      "[31] Test Loss: 0.0992, Accuracy: 96.80%\n",
      "[32] Test Loss: 0.0974, Accuracy: 96.88%\n",
      "[33] Test Loss: 0.0971, Accuracy: 96.91%\n",
      "[34] Test Loss: 0.0946, Accuracy: 96.97%\n",
      "[35] Test Loss: 0.0974, Accuracy: 96.90%\n",
      "[36] Test Loss: 0.0934, Accuracy: 97.04%\n",
      "[37] Test Loss: 0.0952, Accuracy: 96.93%\n",
      "[38] Test Loss: 0.0923, Accuracy: 97.17%\n",
      "[39] Test Loss: 0.0906, Accuracy: 97.23%\n",
      "[40] Test Loss: 0.0898, Accuracy: 97.20%\n",
      "[41] Test Loss: 0.0888, Accuracy: 97.26%\n",
      "[42] Test Loss: 0.0894, Accuracy: 97.16%\n",
      "[43] Test Loss: 0.0915, Accuracy: 97.13%\n",
      "[44] Test Loss: 0.0871, Accuracy: 97.27%\n",
      "[45] Test Loss: 0.0867, Accuracy: 97.30%\n",
      "[46] Test Loss: 0.0872, Accuracy: 97.45%\n",
      "[47] Test Loss: 0.0854, Accuracy: 97.34%\n",
      "[48] Test Loss: 0.0867, Accuracy: 97.33%\n",
      "[49] Test Loss: 0.0856, Accuracy: 97.36%\n",
      "[50] Test Loss: 0.0851, Accuracy: 97.43%\n"
     ]
    }
   ],
   "source": [
    "for epoch in range(1, EPOCHS + 1):\n",
    "    train(model, train_loader, optimizer)\n",
    "    test_loss, test_accuracy = evaluate(model, test_loader)\n",
    "    \n",
    "    print('[{}] Test Loss: {:.4f}, Accuracy: {:.2f}%'.format(\n",
    "          epoch, test_loss, test_accuracy))"
   ]
  }
 ],
 "metadata": {
  "kernelspec": {
   "display_name": "Python 3",
   "language": "python",
   "name": "python3"
  },
  "language_info": {
   "codemirror_mode": {
    "name": "ipython",
    "version": 3
   },
   "file_extension": ".py",
   "mimetype": "text/x-python",
   "name": "python",
   "nbconvert_exporter": "python",
   "pygments_lexer": "ipython3",
   "version": "3.7.0"
  }
 },
 "nbformat": 4,
 "nbformat_minor": 2
}

{
 "cells": [
  {
   "cell_type": "markdown",
   "metadata": {},
   "source": [
    "# Conditional GAN으로 생성 컨트롤하기"
   ]
  },
  {
   "cell_type": "code",
   "execution_count": null,
   "metadata": {},
   "outputs": [],
   "source": [
    "import os\n",
    "import torch\n",
    "import torchvision\n",
    "import torch.nn as nn\n",
    "import torch.optim as optim\n",
    "from torchvision import transforms, datasets\n",
    "from torchvision.utils import save_image\n",
    "import matplotlib.pyplot as plt"
   ]
  },
  {
   "cell_type": "code",
   "execution_count": 40,
   "metadata": {},
   "outputs": [
    {
     "data": {
      "text/plain": [
       "<torch._C.Generator at 0x112ac4610>"
      ]
     },
     "execution_count": 40,
     "metadata": {},
     "output_type": "execute_result"
    }
   ],
   "source": [
    "torch.manual_seed(1)    # reproducible"
   ]
  },
  {
   "cell_type": "code",
   "execution_count": 56,
   "metadata": {},
   "outputs": [
    {
     "name": "stdout",
     "output_type": "stream",
     "text": [
      "Using Device: -1\n"
     ]
    }
   ],
   "source": [
    "# Hyper Parameters\n",
    "EPOCHS = 100\n",
    "BATCH_SIZE = 100\n",
    "USE_CDA = torch.cuda.is_available()\n",
    "DEVICE = -1#torch.device(\"cuda\" if USE_CUDA else \"cpu\")\n",
    "print(\"Using Device:\", DEVICE)"
   ]
  },
  {
   "cell_type": "code",
   "execution_count": 57,
   "metadata": {},
   "outputs": [],
   "source": [
    "# Fashion MNIST digits dataset\n",
    "trainset = datasets.FashionMNIST('./.data',\n",
    "    train=True,\n",
    "    download=True,\n",
    "    transform=transforms.Compose([\n",
    "       transforms.ToTensor(),\n",
    "       transforms.Normalize((0.5,), (0.5,))\n",
    "    ]))\n",
    "train_loader = torch.utils.data.DataLoader(\n",
    "    dataset     = trainset,\n",
    "    batch_size  = BATCH_SIZE,\n",
    "    shuffle     = True)"
   ]
  },
  {
   "cell_type": "code",
   "execution_count": null,
   "metadata": {},
   "outputs": [],
   "source": []
  },
  {
   "cell_type": "code",
   "execution_count": 60,
   "metadata": {},
   "outputs": [],
   "source": [
    "def one_hot_embedding(labels, num_classes):\n",
    "    y = torch.eye(num_classes) \n",
    "    return y[labels]"
   ]
  },
  {
   "cell_type": "code",
   "execution_count": 61,
   "metadata": {},
   "outputs": [],
   "source": [
    "# Discriminator\n",
    "D = nn.Sequential(\n",
    "        nn.Linear(784, 256),\n",
    "        nn.LeakyReLU(0.2),\n",
    "        nn.Linear(256, 256),\n",
    "        nn.LeakyReLU(0.2),\n",
    "        nn.Linear(256, 1),\n",
    "        nn.Sigmoid())"
   ]
  },
  {
   "cell_type": "code",
   "execution_count": 62,
   "metadata": {},
   "outputs": [],
   "source": [
    "# Generator \n",
    "G = nn.Sequential(\n",
    "        nn.Linear(64 + 10, 256),\n",
    "        nn.ReLU(),\n",
    "        nn.Linear(256, 256),\n",
    "        nn.ReLU(),\n",
    "        nn.Linear(256, 784),\n",
    "        nn.Tanh())"
   ]
  },
  {
   "cell_type": "code",
   "execution_count": 63,
   "metadata": {},
   "outputs": [],
   "source": [
    "\n",
    "# Device setting\n",
    "# D = D.to(DEVICE)\n",
    "# G = G.to(DEVICE)\n",
    "\n",
    "# Binary cross entropy loss and optimizer\n",
    "criterion = nn.BCELoss()\n",
    "d_optimizer = optim.Adam(D.parameters(), lr=0.0002)\n",
    "g_optimizer = optim.Adam(G.parameters(), lr=0.0002)"
   ]
  },
  {
   "cell_type": "code",
   "execution_count": null,
   "metadata": {},
   "outputs": [],
   "source": []
  },
  {
   "cell_type": "code",
   "execution_count": null,
   "metadata": {},
   "outputs": [
    {
     "name": "stdout",
     "output_type": "stream",
     "text": [
      "Epoch [0/100], Step [200/600], d_loss: 0.2035, g_loss: 3.9137, D(x): 0.96, D(G(z)): 0.14\n",
      "Epoch [0/100], Step [400/600], d_loss: 0.0542, g_loss: 4.0524, D(x): 0.99, D(G(z)): 0.04\n",
      "Epoch [0/100], Step [600/600], d_loss: 0.0192, g_loss: 5.1181, D(x): 0.99, D(G(z)): 0.01\n",
      "Epoch [1/100], Step [200/600], d_loss: 0.0808, g_loss: 5.1402, D(x): 0.96, D(G(z)): 0.01\n",
      "Epoch [1/100], Step [400/600], d_loss: 0.0702, g_loss: 4.7745, D(x): 0.97, D(G(z)): 0.02\n",
      "Epoch [1/100], Step [600/600], d_loss: 0.0312, g_loss: 6.6559, D(x): 0.98, D(G(z)): 0.00\n",
      "Epoch [2/100], Step [200/600], d_loss: 0.0587, g_loss: 5.9569, D(x): 0.98, D(G(z)): 0.01\n",
      "Epoch [2/100], Step [400/600], d_loss: 0.0221, g_loss: 7.4173, D(x): 0.99, D(G(z)): 0.00\n",
      "Epoch [2/100], Step [600/600], d_loss: 0.0687, g_loss: 5.2643, D(x): 0.98, D(G(z)): 0.04\n",
      "Epoch [3/100], Step [200/600], d_loss: 0.0520, g_loss: 8.1650, D(x): 0.99, D(G(z)): 0.03\n",
      "Epoch [3/100], Step [400/600], d_loss: 0.0428, g_loss: 4.2432, D(x): 1.00, D(G(z)): 0.04\n",
      "Epoch [3/100], Step [600/600], d_loss: 0.1379, g_loss: 5.1584, D(x): 0.96, D(G(z)): 0.05\n",
      "Epoch [4/100], Step [200/600], d_loss: 0.1105, g_loss: 6.9160, D(x): 0.95, D(G(z)): 0.01\n",
      "Epoch [4/100], Step [400/600], d_loss: 0.0672, g_loss: 6.1750, D(x): 0.97, D(G(z)): 0.01\n",
      "Epoch [4/100], Step [600/600], d_loss: 0.1790, g_loss: 4.9113, D(x): 0.95, D(G(z)): 0.07\n",
      "Epoch [5/100], Step [200/600], d_loss: 0.1395, g_loss: 4.7723, D(x): 0.95, D(G(z)): 0.03\n",
      "Epoch [5/100], Step [400/600], d_loss: 0.2785, g_loss: 4.4289, D(x): 0.94, D(G(z)): 0.05\n",
      "Epoch [5/100], Step [600/600], d_loss: 0.2139, g_loss: 5.2389, D(x): 0.96, D(G(z)): 0.07\n",
      "Epoch [6/100], Step [200/600], d_loss: 0.1778, g_loss: 5.2271, D(x): 0.96, D(G(z)): 0.05\n",
      "Epoch [6/100], Step [400/600], d_loss: 0.1289, g_loss: 6.4145, D(x): 0.95, D(G(z)): 0.02\n",
      "Epoch [6/100], Step [600/600], d_loss: 0.2569, g_loss: 7.0253, D(x): 0.93, D(G(z)): 0.01\n",
      "Epoch [7/100], Step [200/600], d_loss: 0.0675, g_loss: 5.4024, D(x): 0.98, D(G(z)): 0.04\n",
      "Epoch [7/100], Step [400/600], d_loss: 0.2563, g_loss: 4.2504, D(x): 0.93, D(G(z)): 0.02\n",
      "Epoch [7/100], Step [600/600], d_loss: 0.2331, g_loss: 5.2094, D(x): 0.93, D(G(z)): 0.03\n",
      "Epoch [8/100], Step [200/600], d_loss: 0.2169, g_loss: 4.8949, D(x): 0.93, D(G(z)): 0.04\n",
      "Epoch [8/100], Step [400/600], d_loss: 0.2666, g_loss: 4.0623, D(x): 0.96, D(G(z)): 0.14\n",
      "Epoch [8/100], Step [600/600], d_loss: 0.2105, g_loss: 3.8399, D(x): 0.95, D(G(z)): 0.08\n"
     ]
    },
    {
     "data": {
      "image/png": "[encoded data removed]",
      "text/plain": [
       "<matplotlib.figure.Figure at 0x1835c87f98>"
      ]
     },
     "metadata": {},
     "output_type": "display_data"
    },
    {
     "name": "stdout",
     "output_type": "stream",
     "text": [
      "Epoch [9/100], Step [200/600], d_loss: 0.1385, g_loss: 6.0198, D(x): 0.95, D(G(z)): 0.01\n"
     ]
    },
    {
     "data": {
      "image/png": "[encoded data removed]",
      "text/plain": [
       "<matplotlib.figure.Figure at 0x182ec7fef0>"
      ]
     },
     "metadata": {},
     "output_type": "display_data"
    },
    {
     "data": {
      "image/png": "[encoded data removed]",
      "text/plain": [
       "<matplotlib.figure.Figure at 0x182eca3f28>"
      ]
     },
     "metadata": {},
     "output_type": "display_data"
    },
    {
     "name": "stdout",
     "output_type": "stream",
     "text": [
      "Epoch [9/100], Step [400/600], d_loss: 0.3028, g_loss: 3.1371, D(x): 0.91, D(G(z)): 0.06\n"
     ]
    },
    {
     "data": {
      "image/png": "[encoded data removed]",
      "text/plain": [
       "<matplotlib.figure.Figure at 0x182ed71d30>"
      ]
     },
     "metadata": {},
     "output_type": "display_data"
    },
    {
     "data": {
      "image/png": "[encoded data removed]",
      "text/plain": [
       "<matplotlib.figure.Figure at 0x182ef68eb8>"
      ]
     },
     "metadata": {},
     "output_type": "display_data"
    },
    {
     "name": "stdout",
     "output_type": "stream",
     "text": [
      "Epoch [9/100], Step [600/600], d_loss: 0.2114, g_loss: 4.0104, D(x): 0.92, D(G(z)): 0.04\n"
     ]
    },
    {
     "data": {
      "image/png": "[encoded data removed]",
      "text/plain": [
       "<matplotlib.figure.Figure at 0x182ed6b908>"
      ]
     },
     "metadata": {},
     "output_type": "display_data"
    },
    {
     "name": "stdout",
     "output_type": "stream",
     "text": [
      "Epoch [10/100], Step [200/600], d_loss: 0.1456, g_loss: 5.0011, D(x): 0.96, D(G(z)): 0.07\n",
      "Epoch [10/100], Step [400/600], d_loss: 0.1838, g_loss: 4.4171, D(x): 0.94, D(G(z)): 0.08\n",
      "Epoch [10/100], Step [600/600], d_loss: 0.3961, g_loss: 3.3184, D(x): 0.86, D(G(z)): 0.07\n",
      "Epoch [11/100], Step [200/600], d_loss: 0.3092, g_loss: 3.9105, D(x): 0.90, D(G(z)): 0.09\n",
      "Epoch [11/100], Step [400/600], d_loss: 0.4723, g_loss: 3.8885, D(x): 0.84, D(G(z)): 0.09\n",
      "Epoch [11/100], Step [600/600], d_loss: 0.3135, g_loss: 3.1948, D(x): 0.93, D(G(z)): 0.12\n",
      "Epoch [12/100], Step [200/600], d_loss: 0.3178, g_loss: 4.5334, D(x): 0.90, D(G(z)): 0.08\n",
      "Epoch [12/100], Step [400/600], d_loss: 0.5013, g_loss: 3.7907, D(x): 0.83, D(G(z)): 0.08\n",
      "Epoch [12/100], Step [600/600], d_loss: 0.3071, g_loss: 3.5431, D(x): 0.94, D(G(z)): 0.16\n",
      "Epoch [13/100], Step [200/600], d_loss: 0.4607, g_loss: 3.3709, D(x): 0.85, D(G(z)): 0.11\n",
      "Epoch [13/100], Step [400/600], d_loss: 0.7608, g_loss: 3.8773, D(x): 0.79, D(G(z)): 0.08\n",
      "Epoch [13/100], Step [600/600], d_loss: 0.3508, g_loss: 3.9021, D(x): 0.93, D(G(z)): 0.18\n",
      "Epoch [14/100], Step [200/600], d_loss: 0.3091, g_loss: 4.3872, D(x): 0.91, D(G(z)): 0.09\n",
      "Epoch [14/100], Step [400/600], d_loss: 0.6227, g_loss: 3.2646, D(x): 0.81, D(G(z)): 0.08\n",
      "Epoch [14/100], Step [600/600], d_loss: 0.3563, g_loss: 3.4624, D(x): 0.94, D(G(z)): 0.21\n",
      "Epoch [15/100], Step [200/600], d_loss: 0.2872, g_loss: 4.1068, D(x): 0.89, D(G(z)): 0.06\n",
      "Epoch [15/100], Step [400/600], d_loss: 0.4886, g_loss: 3.2623, D(x): 0.86, D(G(z)): 0.11\n",
      "Epoch [15/100], Step [600/600], d_loss: 0.4396, g_loss: 3.0545, D(x): 0.89, D(G(z)): 0.14\n",
      "Epoch [16/100], Step [200/600], d_loss: 0.4851, g_loss: 3.8264, D(x): 0.82, D(G(z)): 0.05\n",
      "Epoch [16/100], Step [400/600], d_loss: 0.3364, g_loss: 2.7990, D(x): 0.89, D(G(z)): 0.11\n",
      "Epoch [16/100], Step [600/600], d_loss: 0.5550, g_loss: 3.3606, D(x): 0.91, D(G(z)): 0.25\n",
      "Epoch [17/100], Step [200/600], d_loss: 0.3725, g_loss: 2.6833, D(x): 0.90, D(G(z)): 0.14\n",
      "Epoch [17/100], Step [400/600], d_loss: 0.4775, g_loss: 2.8796, D(x): 0.90, D(G(z)): 0.21\n",
      "Epoch [17/100], Step [600/600], d_loss: 0.3823, g_loss: 2.7526, D(x): 0.88, D(G(z)): 0.13\n",
      "Epoch [18/100], Step [200/600], d_loss: 0.2608, g_loss: 2.9081, D(x): 0.92, D(G(z)): 0.11\n",
      "Epoch [18/100], Step [400/600], d_loss: 0.6864, g_loss: 3.0183, D(x): 0.80, D(G(z)): 0.11\n",
      "Epoch [18/100], Step [600/600], d_loss: 0.4651, g_loss: 3.1179, D(x): 0.85, D(G(z)): 0.13\n"
     ]
    },
    {
     "data": {
      "image/png": "[encoded data removed]",
      "text/plain": [
       "<matplotlib.figure.Figure at 0x182ef68e80>"
      ]
     },
     "metadata": {},
     "output_type": "display_data"
    },
    {
     "name": "stdout",
     "output_type": "stream",
     "text": [
      "Epoch [19/100], Step [200/600], d_loss: 0.3952, g_loss: 4.1515, D(x): 0.86, D(G(z)): 0.08\n"
     ]
    },
    {
     "data": {
      "image/png": "[encoded data removed]",
      "text/plain": [
       "<matplotlib.figure.Figure at 0x182ef68978>"
      ]
     },
     "metadata": {},
     "output_type": "display_data"
    },
    {
     "data": {
      "image/png": "[encoded data removed]",
      "text/plain": [
       "<matplotlib.figure.Figure at 0x182f106e80>"
      ]
     },
     "metadata": {},
     "output_type": "display_data"
    },
    {
     "name": "stdout",
     "output_type": "stream",
     "text": [
      "Epoch [19/100], Step [400/600], d_loss: 0.4642, g_loss: 2.5844, D(x): 0.87, D(G(z)): 0.18\n"
     ]
    },
    {
     "data": {
      "image/png": "[encoded data removed]",
      "text/plain": [
       "<matplotlib.figure.Figure at 0x182f048898>"
      ]
     },
     "metadata": {},
     "output_type": "display_data"
    },
    {
     "data": {
      "image/png": "[encoded data removed]",
      "text/plain": [
       "<matplotlib.figure.Figure at 0x182fcb43c8>"
      ]
     },
     "metadata": {},
     "output_type": "display_data"
    },
    {
     "name": "stdout",
     "output_type": "stream",
     "text": [
      "Epoch [19/100], Step [600/600], d_loss: 0.6806, g_loss: 2.8578, D(x): 0.90, D(G(z)): 0.32\n"
     ]
    },
    {
     "data": {
      "image/png": "[encoded data removed]",
      "text/plain": [
       "<matplotlib.figure.Figure at 0x182ed6be48>"
      ]
     },
     "metadata": {},
     "output_type": "display_data"
    },
    {
     "name": "stdout",
     "output_type": "stream",
     "text": [
      "Epoch [20/100], Step [200/600], d_loss: 0.3973, g_loss: 2.5558, D(x): 0.91, D(G(z)): 0.17\n",
      "Epoch [20/100], Step [400/600], d_loss: 0.6671, g_loss: 2.9228, D(x): 0.82, D(G(z)): 0.15\n",
      "Epoch [20/100], Step [600/600], d_loss: 0.3758, g_loss: 2.5956, D(x): 0.91, D(G(z)): 0.18\n",
      "Epoch [21/100], Step [200/600], d_loss: 0.3417, g_loss: 3.5634, D(x): 0.86, D(G(z)): 0.10\n",
      "Epoch [21/100], Step [400/600], d_loss: 0.4332, g_loss: 2.9738, D(x): 0.87, D(G(z)): 0.15\n",
      "Epoch [21/100], Step [600/600], d_loss: 0.4375, g_loss: 2.7782, D(x): 0.84, D(G(z)): 0.07\n",
      "Epoch [22/100], Step [200/600], d_loss: 0.4174, g_loss: 3.9002, D(x): 0.82, D(G(z)): 0.05\n"
     ]
    }
   ],
   "source": [
    "total_step = len(train_loader)\n",
    "for epoch in range(EPOCHS):\n",
    "    for i, (images, label) in enumerate(train_loader):\n",
    "        images = images.reshape(BATCH_SIZE, -1)#.to(DEVICE)\n",
    "        \n",
    "        real_labels = torch.ones(BATCH_SIZE, 1)#.to(DEVICE)\n",
    "        fake_labels = torch.zeros(BATCH_SIZE, 1)#.to(DEVICE)\n",
    "\n",
    "        outputs = D(images)\n",
    "        d_loss_real = criterion(outputs, real_labels)\n",
    "        real_score = outputs\n",
    "        \n",
    "        class_label = one_hot_embedding(label, 10)\n",
    "        z = torch.randn(BATCH_SIZE, 64)#.to(DEVICE)\n",
    "        \n",
    "        generator_input = torch.cat([z, class_label], 1)\n",
    "        \n",
    "        fake_images= G(generator_input)\n",
    "\n",
    "        outputs = D(fake_images)\n",
    "        d_loss_fake = criterion(outputs, fake_labels)\n",
    "        fake_score = outputs\n",
    "        \n",
    "        # Backprop and optimize\n",
    "        d_loss = d_loss_real + d_loss_fake\n",
    "        d_optimizer.zero_grad()\n",
    "        d_loss.backward()\n",
    "        d_optimizer.step()\n",
    "        \n",
    "        # Train Generator\n",
    "\n",
    "        # Compute loss with fake images\n",
    "        fake_images = G(generator_input)\n",
    "        outputs = D(fake_images)\n",
    "        \n",
    "        g_loss = criterion(outputs, real_labels)\n",
    "        \n",
    "        # Backprop and optimize\n",
    "        d_optimizer.zero_grad()\n",
    "        g_optimizer.zero_grad()\n",
    "        g_loss.backward()\n",
    "        g_optimizer.step()\n",
    "        \n",
    "        if (i+1) % 200 == 0:\n",
    "            print('Epoch [{}/{}], Step [{}/{}], d_loss: {:.4f}, g_loss: {:.4f}, D(x): {:.2f}, D(G(z)): {:.2f}' \n",
    "                  .format(epoch, EPOCHS, i+1, total_step, d_loss.item(), g_loss.item(), \n",
    "                          real_score.mean().item(), fake_score.mean().item()))\n",
    "        if (epoch+1) % 10 == 0 and (i+1) % 100 == 0 :\n",
    "            fake_images = np.reshape(fake_images.data.numpy()[0],(28, 28))\n",
    "            plt.imshow(fake_images, cmap = 'gray')\n",
    "            plt.show()"
   ]
  },
  {
   "cell_type": "code",
   "execution_count": null,
   "metadata": {},
   "outputs": [],
   "source": []
  },
  {
   "cell_type": "code",
   "execution_count": null,
   "metadata": {},
   "outputs": [],
   "source": []
  },
  {
   "cell_type": "code",
   "execution_count": null,
   "metadata": {},
   "outputs": [],
   "source": []
  },
  {
   "cell_type": "code",
   "execution_count": null,
   "metadata": {},
   "outputs": [],
   "source": []
  },
  {
   "cell_type": "code",
   "execution_count": null,
   "metadata": {},
   "outputs": [],
   "source": []
  },
  {
   "cell_type": "code",
   "execution_count": null,
   "metadata": {},
   "outputs": [],
   "source": []
  },
  {
   "cell_type": "code",
   "execution_count": null,
   "metadata": {},
   "outputs": [],
   "source": []
  },
  {
   "cell_type": "code",
   "execution_count": null,
   "metadata": {},
   "outputs": [],
   "source": []
  },
  {
   "cell_type": "code",
   "execution_count": null,
   "metadata": {},
   "outputs": [],
   "source": []
  },
  {
   "cell_type": "code",
   "execution_count": null,
   "metadata": {},
   "outputs": [],
   "source": []
  },
  {
   "cell_type": "code",
   "execution_count": null,
   "metadata": {},
   "outputs": [],
   "source": []
  },
  {
   "cell_type": "code",
   "execution_count": null,
   "metadata": {},
   "outputs": [],
   "source": []
  },
  {
   "cell_type": "code",
   "execution_count": null,
   "metadata": {},
   "outputs": [],
   "source": []
  },
  {
   "cell_type": "code",
   "execution_count": null,
   "metadata": {},
   "outputs": [],
   "source": []
  },
  {
   "cell_type": "code",
   "execution_count": null,
   "metadata": {},
   "outputs": [],
   "source": []
  },
  {
   "cell_type": "code",
   "execution_count": null,
   "metadata": {},
   "outputs": [],
   "source": []
  },
  {
   "cell_type": "code",
   "execution_count": null,
   "metadata": {},
   "outputs": [],
   "source": []
  },
  {
   "cell_type": "code",
   "execution_count": null,
   "metadata": {},
   "outputs": [],
   "source": []
  },
  {
   "cell_type": "code",
   "execution_count": null,
   "metadata": {},
   "outputs": [],
   "source": []
  },
  {
   "cell_type": "code",
   "execution_count": null,
   "metadata": {},
   "outputs": [],
   "source": []
  }
 ],
 "metadata": {
  "kernelspec": {
   "display_name": "Python 3",
   "language": "python",
   "name": "python3"
  },
  "language_info": {
   "codemirror_mode": {
    "name": "ipython",
    "version": 3
   },
   "file_extension": ".py",
   "mimetype": "text/x-python",
   "name": "python",
   "nbconvert_exporter": "python",
   "pygments_lexer": "ipython3",
   "version": "3.6.0"
  }
 },
 "nbformat": 4,
 "nbformat_minor": 2
}

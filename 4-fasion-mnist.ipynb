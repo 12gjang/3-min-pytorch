{
 "cells": [
  {
   "cell_type": "code",
   "execution_count": 2,
   "metadata": {},
   "outputs": [],
   "source": [
    "%matplotlib inline\n",
    "import torch\n",
    "import torchvision\n",
    "import torchvision.transforms as transforms\n",
    "import torch.nn               as nn\n",
    "import torch.nn.functional    as F\n",
    "import torch.optim            as optim\n",
    "from torch.autograd import Variable\n",
    "\n",
    "import matplotlib.pyplot as plt\n",
    "import numpy as np"
   ]
  },
  {
   "cell_type": "code",
   "execution_count": 3,
   "metadata": {},
   "outputs": [],
   "source": [
    "cuda = True"
   ]
  },
  {
   "cell_type": "code",
   "execution_count": 4,
   "metadata": {},
   "outputs": [],
   "source": [
    "batch_size = 256"
   ]
  },
  {
   "cell_type": "code",
   "execution_count": 5,
   "metadata": {},
   "outputs": [],
   "source": [
    "transform = transforms.Compose([\n",
    "    transforms.RandomHorizontalFlip(),\n",
    "    transforms.ColorJitter(),\n",
    "    transforms.RandomRotation(35),\n",
    "    transforms.ToTensor(),\n",
    "    transforms.Normalize((0.5,), (0.5,))\n",
    "])"
   ]
  },
  {
   "cell_type": "code",
   "execution_count": 6,
   "metadata": {},
   "outputs": [],
   "source": [
    "trainset = torchvision.datasets.FashionMNIST(\n",
    "    root      = './data/', \n",
    "    train     = True,\n",
    "    download  = True,\n",
    "    transform = transform\n",
    ")\n",
    "trainloader = torch.utils.data.DataLoader(\n",
    "    dataset     = trainset,\n",
    "    batch_size  = batch_size,\n",
    "    shuffle     = True,\n",
    "    num_workers = 2\n",
    ")\n",
    "testset = torchvision.datasets.FashionMNIST(\n",
    "    root      = './data/', \n",
    "    train     = False,\n",
    "    download  = True,\n",
    "    transform = transform\n",
    ")\n",
    "testloader = torch.utils.data.DataLoader(\n",
    "    dataset     = testset,\n",
    "    batch_size  = batch_size,\n",
    "    shuffle     = True,\n",
    "    num_workers = 2\n",
    ")\n",
    "classes = (\n",
    "    'top',\n",
    "    'trouser',\n",
    "    'pullover',\n",
    "    'dress',\n",
    "    'coat',\n",
    "    'sandal',\n",
    "    'shirt',\n",
    "    'sneaker',\n",
    "    'bag',\n",
    "    'boot'\n",
    ")"
   ]
  },
  {
   "cell_type": "code",
   "execution_count": 7,
   "metadata": {},
   "outputs": [],
   "source": [
    "def show(img):\n",
    "    img   = img / 2 + 0.5\n",
    "    npimg = img.numpy()\n",
    "    plt.figure(figsize=(20, 3))\n",
    "    plt.imshow(np.transpose(npimg, (1,2,0)),\n",
    "               interpolation='nearest')\n",
    "    plt.show()"
   ]
  },
  {
   "cell_type": "code",
   "execution_count": 8,
   "metadata": {},
   "outputs": [],
   "source": [
    "dataiter       = iter(trainloader)\n",
    "images, labels = dataiter.next()"
   ]
  },
  {
   "cell_type": "code",
   "execution_count": 9,
   "metadata": {},
   "outputs": [
    {
     "data": {
      "image/png": "[encoded data removed]",
      "text/plain": [
       "<matplotlib.figure.Figure at 0x7fb0805afb70>"
      ]
     },
     "metadata": {},
     "output_type": "display_data"
    }
   ],
   "source": [
    "show(torchvision.utils.make_grid(images[:24], padding=0))"
   ]
  },
  {
   "cell_type": "code",
   "execution_count": 10,
   "metadata": {},
   "outputs": [
    {
     "data": {
      "text/plain": [
       "'pullover, pullover, sneaker, sneaker, trouser, shirt, sandal, sneaker, dress, sandal, dress, dress, top, bag, top, pullover, pullover, sandal, trouser, sneaker, pullover, shirt, top, pullover, coat, coat, top, coat, pullover, boot, trouser, top, top, boot, dress, top, shirt, dress, sneaker, boot, sneaker, trouser, sneaker, coat, shirt, pullover, trouser, dress, sandal, sneaker, top, coat, trouser, coat, trouser, boot, bag, top, top, dress, sandal, shirt, shirt, sneaker, trouser, dress, trouser, shirt, sandal, top, bag, pullover, sneaker, shirt, dress, boot, trouser, dress, sandal, bag, sandal, boot, dress, boot, pullover, sandal, shirt, shirt, shirt, boot, trouser, dress, pullover, boot, boot, dress, dress, bag, coat, sandal, pullover, sneaker, shirt, shirt, trouser, bag, pullover, dress, dress, trouser, coat, bag, trouser, sneaker, sneaker, boot, sneaker, dress, trouser, sneaker, boot, shirt, trouser, shirt, dress, top, dress, top, top, top, shirt, sandal, sneaker, top, sandal, top, top, coat, boot, shirt, coat, bag, dress, bag, boot, sandal, bag, top, coat, coat, dress, bag, bag, top, boot, sandal, sneaker, dress, sandal, trouser, sandal, sandal, trouser, pullover, boot, dress, pullover, dress, trouser, coat, pullover, sandal, top, bag, pullover, sandal, top, sandal, boot, coat, dress, bag, bag, shirt, pullover, dress, top, trouser, coat, dress, bag, bag, bag, top, sneaker, bag, dress, pullover, coat, sneaker, bag, trouser, shirt, pullover, shirt, pullover, trouser, sneaker, dress, shirt, sandal, top, boot, trouser, shirt, boot, coat, trouser, shirt, pullover, sneaker, top, coat, shirt, bag, coat, sneaker, coat, bag, trouser, dress, shirt, sneaker, shirt, sandal, trouser, sneaker, dress, sandal, sneaker, top, dress, trouser, sandal, shirt, coat, top, pullover, trouser, bag, shirt, pullover, top, boot, boot, trouser'"
      ]
     },
     "execution_count": 10,
     "metadata": {},
     "output_type": "execute_result"
    }
   ],
   "source": [
    "', '.join(classes[c] for c in labels)"
   ]
  },
  {
   "cell_type": "code",
   "execution_count": 11,
   "metadata": {},
   "outputs": [],
   "source": [
    "class CNN(nn.Module):\n",
    "    def __init__(self):\n",
    "        super(CNN, self).__init__()\n",
    "        self.conv1 = nn.Conv2d(1  , 64 , 3, padding = 1)\n",
    "        self.conv2 = nn.Conv2d(64 , 64 , 3, padding = 1)\n",
    "        self.conv3 = nn.Conv2d(64 , 64 , 3, padding = 1)\n",
    "        self.conv4 = nn.Conv2d(64 , 128 , 3, padding = 1)\n",
    "        self.conv5 = nn.Conv2d(128, 128, 3, padding = 1)\n",
    "        self.conv6 = nn.Conv2d(128, 128, 3, padding = 1)\n",
    "        self.fc1   = nn.Linear(128 * 7 * 7, 512)\n",
    "        self.fc2   = nn.Linear(512, 512)\n",
    "        self.fc3   = nn.Linear(512, 512)\n",
    "        self.fc4   = nn.Linear(512, 10)\n",
    "        self.bn1   = nn.BatchNorm2d(64)\n",
    "        self.bn2   = nn.BatchNorm2d(64)\n",
    "        self.bn3   = nn.BatchNorm2d(64)\n",
    "        self.bn4   = nn.BatchNorm2d(128)\n",
    "        self.bn5   = nn.BatchNorm2d(128)\n",
    "        self.bn6   = nn.BatchNorm2d(128)\n",
    "        self.bn7   = nn.BatchNorm1d(512)\n",
    "        self.bn8   = nn.BatchNorm1d(512)\n",
    "        self.bn9   = nn.BatchNorm1d(512)\n",
    "        \n",
    "    def forward(self, x):\n",
    "        x = F.dropout(F.relu(self.bn1(self.conv1(x))), 0.7)\n",
    "        x = F.dropout(F.relu(self.bn2(self.conv2(x))), 0.7)\n",
    "        x = F.dropout(F.relu(self.bn3(self.conv3(x))), 0.7)\n",
    "        x = F.max_pool2d(x, (2, 2))\n",
    "        x = F.dropout(F.relu(self.bn4(self.conv4(x))), 0.5)\n",
    "        x = F.dropout(F.relu(self.bn5(self.conv5(x))), 0.5)\n",
    "        x = F.dropout(F.relu(self.bn6(self.conv6(x))), 0.5)\n",
    "        x = F.max_pool2d(x, (2, 2))\n",
    "        x = x.view(-1, 128 * 7 * 7)\n",
    "        x = F.dropout(F.relu(self.bn7(self.fc1(x))), 0.3)\n",
    "        x = F.dropout(F.relu(self.bn8(self.fc2(x))), 0.3)\n",
    "        x = F.dropout(F.relu(self.bn9(self.fc3(x))), 0.3)\n",
    "        x = self.fc4(x)\n",
    "        \n",
    "        return x"
   ]
  },
  {
   "cell_type": "code",
   "execution_count": 12,
   "metadata": {},
   "outputs": [],
   "source": [
    "cnn       = CNN().cuda() if cuda else CNN()\n",
    "criterion = nn.CrossEntropyLoss()\n",
    "optimizer = optim.Adam(cnn.parameters())\n",
    "epoch     = 40\n",
    "print_int = 100"
   ]
  },
  {
   "cell_type": "code",
   "execution_count": null,
   "metadata": {},
   "outputs": [],
   "source": [
    "def validate_model(train = True):\n",
    "    cnn.eval()\n",
    "    total_loss            = 0.0\n",
    "    total_prediction      = 0\n",
    "    total_good_prediction = 0\n",
    "    batch_number          = 0\n",
    "    for X, y in trainloader if train else testloader:\n",
    "        X, y = Variable(X), Variable(y)\n",
    "        X, y = (X.cuda(), y.cuda()) if cuda else (X, y)\n",
    "\n",
    "        y_pred                 = cnn(X)\n",
    "        total_loss            += criterion(y_pred, y).data[0]\n",
    "        total_prediction      += y_pred.size()[0]\n",
    "        total_good_prediction += (y_pred.max(dim = 1)[1].data.cpu() == y.data.cpu()).sum()\n",
    "        batch_number          += 1\n",
    "    \n",
    "    return total_loss / batch_number, 100 * total_good_prediction / total_prediction "
   ]
  },
  {
   "cell_type": "code",
   "execution_count": null,
   "metadata": {},
   "outputs": [
    {
     "name": "stderr",
     "output_type": "stream",
     "text": [
      "/usr/local/lib/python3.5/dist-packages/ipykernel_launcher.py:12: UserWarning: invalid index of a 0-dim tensor. This will be an error in PyTorch 0.5. Use tensor.item() to convert a 0-dim tensor to a Python number\n",
      "  if sys.path[0] == '':\n"
     ]
    },
    {
     "name": "stdout",
     "output_type": "stream",
     "text": [
      "running_loss: 2.3096609115600586 train_loss: 2.3027710914611816 valid_loss: 2.3027379512786865 valid_acc: 10\n",
      "running_loss: 0.6036235809326171 train_loss: 0.45867541432380676 valid_loss: 0.4806478023529053 valid_acc: 81\n",
      "running_loss: 0.41543949127197266 train_loss: 0.3720729649066925 valid_loss: 0.40128812193870544 valid_acc: 85\n",
      "running_loss: 0.34497180581092834 train_loss: 0.3654119074344635 valid_loss: 0.40196844935417175 valid_acc: 85\n",
      "running_loss: 0.34459724426269533 train_loss: 0.36590418219566345 valid_loss: 0.41220685839653015 valid_acc: 85\n",
      "running_loss: 0.3207188415527344 train_loss: 0.3225734829902649 valid_loss: 0.3546592891216278 valid_acc: 87\n",
      "running_loss: 0.28065937757492065 train_loss: 0.33713236451148987 valid_loss: 0.36395105719566345 valid_acc: 86\n"
     ]
    }
   ],
   "source": [
    "for i in range(epoch):\n",
    "    running_loss = 0\n",
    "    for j, (X_train, y_train) in enumerate(trainloader):\n",
    "        cnn.train()\n",
    "        X_train, y_train = Variable(X_train), Variable(y_train)\n",
    "        X_train, y_train = (X_train.cuda(), y_train.cuda()) if cuda else (X_train, y_train)\n",
    "        \n",
    "        optimizer.zero_grad()\n",
    "        y_pred = cnn(X_train)\n",
    "        loss   = criterion(y_pred, y_train)\n",
    "        loss.backward()\n",
    "        optimizer.step()\n",
    "        \n",
    "        running_loss += loss\n",
    "        if j % print_int == 0:\n",
    "            train_loss, train_acc = validate_model(True)\n",
    "            val_loss, val_acc     = validate_model(False)\n",
    "            print(\n",
    "                \"running_loss:\", running_loss.item()  / (print_int if j != 0 else 1),\n",
    "                \"train_loss:\", train_loss.item(),\n",
    "                \"valid_loss:\", val_loss.item(), \"valid_acc:\", val_acc.item()\n",
    "            )\n",
    "            running_loss = 0"
   ]
  },
  {
   "cell_type": "code",
   "execution_count": null,
   "metadata": {},
   "outputs": [],
   "source": []
  }
 ],
 "metadata": {
  "kernelspec": {
   "display_name": "Python 3",
   "language": "python",
   "name": "python3"
  },
  "language_info": {
   "codemirror_mode": {
    "name": "ipython",
    "version": 3
   },
   "file_extension": ".py",
   "mimetype": "text/x-python",
   "name": "python",
   "nbconvert_exporter": "python",
   "pygments_lexer": "ipython3",
   "version": "3.5.2"
  }
 },
 "nbformat": 4,
 "nbformat_minor": 2
}

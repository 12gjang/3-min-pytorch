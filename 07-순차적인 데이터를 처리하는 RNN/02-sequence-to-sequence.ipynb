{
 "cells": [
  {
   "cell_type": "markdown",
   "metadata": {},
   "source": [
    "# Seq2Seq 기계 번역\n",
    "\n",
    "이번 프로젝트에선 임의로 Seq2Seq 모델을 아주 간단화 시켰습니다.\n",
    "한 언어로 된 문장을 다른 언어로 된 문장으로 번역하는 덩치가 큰 모델이 아닌\n",
    "영어 알파벳 문자열(\"hello\")을 스페인어 알파벳 문자열(\"hola\")로 번역하는 Mini Seq2Seq 모델을 같이 구현해 보겠습니다."
   ]
  },
  {
   "cell_type": "code",
   "execution_count": 186,
   "metadata": {},
   "outputs": [],
   "source": [
    "import torch\n",
    "import torch.nn as nn\n",
    "import torch.nn.functional as F\n",
    "import random\n",
    "\n",
    "%matplotlib inline"
   ]
  },
  {
   "cell_type": "code",
   "execution_count": 212,
   "metadata": {},
   "outputs": [
    {
     "name": "stdout",
     "output_type": "stream",
     "text": [
      "hello ->  [104, 101, 108, 108, 111]\n",
      "hola  ->  [104, 111, 108, 97]\n"
     ]
    }
   ],
   "source": [
    "vocab_size = 256  # 총 아스키 코드 개수\n",
    "x_ = list(map(ord, \"hello\"))  # 아스키 코드 리스트로 변환\n",
    "y_ = list(map(ord, \"hola\"))   # 아스키 코드 리스트로 변환\n",
    "print(\"hello -> \", x_)\n",
    "print(\"hola  -> \", y_)"
   ]
  },
  {
   "cell_type": "code",
   "execution_count": 213,
   "metadata": {},
   "outputs": [],
   "source": [
    "x = torch.LongTensor(x_)\n",
    "y = torch.LongTensor(y_)"
   ]
  },
  {
   "cell_type": "code",
   "execution_count": 218,
   "metadata": {},
   "outputs": [],
   "source": [
    "class Seq2Seq(nn.Module):\n",
    "    def __init__(self, vocab_size, hidden_size):\n",
    "        super(Seq2Seq, self).__init__()\n",
    "        self.n_layers = 1\n",
    "        self.hidden_size = hidden_size\n",
    "        self.embedding = nn.Embedding(vocab_size, hidden_size)\n",
    "        self.encoder = nn.GRU(hidden_size, hidden_size)\n",
    "        self.decoder = nn.GRU(hidden_size, hidden_size)\n",
    "        self.project = nn.Linear(hidden_size, vocab_size)\n",
    "\n",
    "    def forward(self, inputs, targets):\n",
    "        # 인코더에 들어갈 입력\n",
    "        initial_state = self._init_state()\n",
    "        embedding = self.embedding(inputs).unsqueeze(1)\n",
    "        # embedding = [seq_len, batch_size, embedding_size]\n",
    "        \n",
    "        # 인코더 (Encoder)\n",
    "        encoder_output, encoder_state = self.encoder(embedding, initial_state)\n",
    "        # encoder_output = [seq_len, batch_size, hidden_size]\n",
    "        # encoder_state  = [n_layers, seq_len, hidden_size]\n",
    "\n",
    "        # 디코더에 들어갈 입력\n",
    "        decoder_state = encoder_state\n",
    "        decoder_input = torch.LongTensor([[0]])\n",
    "        \n",
    "        # 디코더 (Decoder)\n",
    "        outputs = []\n",
    "        \n",
    "        # 티쳐 포싱 (Teacher Forcing)\n",
    "        use_teacher_forcing = True# if random.random() < 0.5 else False\n",
    "        \n",
    "        if use_teacher_forcing:\n",
    "            for i in range(targets.size()[0]):\n",
    "                decoder_input = self.embedding(decoder_input)\n",
    "                decoder_output, decoder_state = self.decoder(decoder_input, decoder_state)\n",
    "                projection = self.project(decoder_output)#.unsqueeze(0))\n",
    "                outputs.append(projection)\n",
    "                decoder_input = torch.LongTensor([[targets[i]]])\n",
    "        else:\n",
    "            for i in range(targets.size()[0]): \n",
    "                decoder_input = self.embedding(decoder_input)\n",
    "#                 decoder_input = torch.cat((decoder_input, encoder_state), 2)\n",
    "                decoder_output, decoder_state = self.decoder(decoder_input, decoder_state)\n",
    "\n",
    "                # 디코더의 출력값으로 다음 글자 예측하기\n",
    "                projection = self.project(decoder_output.view(1, -1))  # batch x vocab_size\n",
    "                prediction = F.softmax(projection, dim=1)  # batch x vocab_size\n",
    "                outputs.append(prediction)\n",
    "\n",
    "                # 디코더 입력 갱신\n",
    "                _, top_i = prediction.data.topk(1)  # 1 x 1\n",
    "                decoder_input = top_i\n",
    "            \n",
    "\n",
    "        outputs = torch.stack(outputs).squeeze()\n",
    "        return outputs\n",
    "    \n",
    "    def _init_state(self, batch_size=1):\n",
    "        weight = next(self.parameters()).data\n",
    "        return weight.new(self.n_layers, batch_size, self.hidden_size).zero_()"
   ]
  },
  {
   "cell_type": "code",
   "execution_count": 219,
   "metadata": {},
   "outputs": [
    {
     "name": "stdout",
     "output_type": "stream",
     "text": [
      "Seq2Seq(\n",
      "  (embedding): Embedding(256, 16)\n",
      "  (encoder): GRU(16, 16)\n",
      "  (decoder): GRU(16, 16)\n",
      "  (project): Linear(in_features=16, out_features=256, bias=True)\n",
      ")\n"
     ]
    }
   ],
   "source": [
    "seq2seq = Seq2Seq(vocab_size, 16)\n",
    "print(seq2seq)"
   ]
  },
  {
   "cell_type": "code",
   "execution_count": 220,
   "metadata": {},
   "outputs": [],
   "source": [
    "criterion = nn.CrossEntropyLoss()\n",
    "optimizer = torch.optim.Adam(seq2seq.parameters(), lr=1e-3)"
   ]
  },
  {
   "cell_type": "code",
   "execution_count": 221,
   "metadata": {},
   "outputs": [
    {
     "name": "stdout",
     "output_type": "stream",
     "text": [
      "\n",
      " 반복:0 오차: 5.539267539978027\n",
      "['Å', 'ò', 'ò', '\\x12']\n",
      "['h', 'o', 'l', 'a']\n",
      "\n",
      " 반복:100 오차: 1.8475919961929321\n",
      "['h', 'o', 'l', 'a']\n",
      "['h', 'o', 'l', 'a']\n",
      "\n",
      " 반복:200 오차: 0.6000521779060364\n",
      "['h', 'o', 'l', 'a']\n",
      "['h', 'o', 'l', 'a']\n",
      "\n",
      " 반복:300 오차: 0.28734850883483887\n",
      "['h', 'o', 'l', 'a']\n",
      "['h', 'o', 'l', 'a']\n",
      "\n",
      " 반복:400 오차: 0.17892339825630188\n",
      "['h', 'o', 'l', 'a']\n",
      "['h', 'o', 'l', 'a']\n",
      "\n",
      " 반복:500 오차: 0.12511952221393585\n",
      "['h', 'o', 'l', 'a']\n",
      "['h', 'o', 'l', 'a']\n",
      "\n",
      " 반복:600 오차: 0.09342227131128311\n",
      "['h', 'o', 'l', 'a']\n",
      "['h', 'o', 'l', 'a']\n",
      "\n",
      " 반복:700 오차: 0.07278146594762802\n",
      "['h', 'o', 'l', 'a']\n",
      "['h', 'o', 'l', 'a']\n",
      "\n",
      " 반복:800 오차: 0.05734049528837204\n",
      "['h', 'o', 'l', 'a']\n",
      "['h', 'o', 'l', 'a']\n",
      "\n",
      " 반복:900 오차: 0.04412749409675598\n",
      "['h', 'o', 'l', 'a']\n",
      "['h', 'o', 'l', 'a']\n",
      "\n",
      " 반복:1000 오차: 0.03519321233034134\n",
      "['h', 'o', 'l', 'a']\n",
      "['h', 'o', 'l', 'a']\n",
      "\n",
      " 반복:1100 오차: 0.028974980115890503\n",
      "['h', 'o', 'l', 'a']\n",
      "['h', 'o', 'l', 'a']\n",
      "\n",
      " 반복:1200 오차: 0.02441542223095894\n",
      "['h', 'o', 'l', 'a']\n",
      "['h', 'o', 'l', 'a']\n",
      "\n",
      " 반복:1300 오차: 0.020931990817189217\n",
      "['h', 'o', 'l', 'a']\n",
      "['h', 'o', 'l', 'a']\n",
      "\n",
      " 반복:1400 오차: 0.0181867778301239\n",
      "['h', 'o', 'l', 'a']\n",
      "['h', 'o', 'l', 'a']\n",
      "\n",
      " 반복:1500 오차: 0.015970785170793533\n",
      "['h', 'o', 'l', 'a']\n",
      "['h', 'o', 'l', 'a']\n",
      "\n",
      " 반복:1600 오차: 0.014147497713565826\n",
      "['h', 'o', 'l', 'a']\n",
      "['h', 'o', 'l', 'a']\n",
      "\n",
      " 반복:1700 오차: 0.012623758986592293\n",
      "['h', 'o', 'l', 'a']\n",
      "['h', 'o', 'l', 'a']\n",
      "\n",
      " 반복:1800 오차: 0.01133372075855732\n",
      "['h', 'o', 'l', 'a']\n",
      "['h', 'o', 'l', 'a']\n",
      "\n",
      " 반복:1900 오차: 0.010229488834738731\n",
      "['h', 'o', 'l', 'a']\n",
      "['h', 'o', 'l', 'a']\n"
     ]
    }
   ],
   "source": [
    "log = []\n",
    "for i in range(2000):\n",
    "    prediction = seq2seq(x, y)\n",
    "    loss = criterion(prediction, y)\n",
    "\n",
    "    optimizer.zero_grad()\n",
    "    loss.backward()\n",
    "    optimizer.step()\n",
    "    loss_val = loss.data\n",
    "    log.append(loss_val)\n",
    "    if i % 100 == 0:\n",
    "        print(\"\\n 반복:%d 오차: %s\" % (i, loss_val.item()))\n",
    "        _, top1 = prediction.data.topk(1, 1)\n",
    "        print([chr(c) for c in top1.squeeze().numpy().tolist()])\n",
    "        print([chr(c) for c in y.squeeze().numpy().tolist()])"
   ]
  },
  {
   "cell_type": "code",
   "execution_count": 211,
   "metadata": {},
   "outputs": [
    {
     "data": {
      "image/png": "[encoded data removed]",
      "text/plain": [
       "<matplotlib.figure.Figure at 0x121110be0>"
      ]
     },
     "metadata": {},
     "output_type": "display_data"
    }
   ],
   "source": [
    "import matplotlib.pyplot as plt\n",
    "plt.plot(log)\n",
    "plt.ylabel('cross entropy loss')\n",
    "plt.show()"
   ]
  },
  {
   "cell_type": "code",
   "execution_count": null,
   "metadata": {},
   "outputs": [],
   "source": []
  }
 ],
 "metadata": {
  "kernelspec": {
   "display_name": "Python 3",
   "language": "python",
   "name": "python3"
  },
  "language_info": {
   "codemirror_mode": {
    "name": "ipython",
    "version": 3
   },
   "file_extension": ".py",
   "mimetype": "text/x-python",
   "name": "python",
   "nbconvert_exporter": "python",
   "pygments_lexer": "ipython3",
   "version": "3.6.0"
  }
 },
 "nbformat": 4,
 "nbformat_minor": 2
}

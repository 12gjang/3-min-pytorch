{
 "cells": [
  {
   "cell_type": "markdown",
   "metadata": {},
   "source": [
    "# 파이토치로 구현하는 신경망\n",
    "\n",
    "## 신경망 모델 구현하기"
   ]
  },
  {
   "cell_type": "code",
   "execution_count": 116,
   "metadata": {},
   "outputs": [],
   "source": [
    "import torch\n",
    "import numpy\n",
    "from sklearn.datasets import make_blobs\n",
    "import matplotlib.pyplot as plot\n",
    "import torch.nn.functional as F"
   ]
  },
  {
   "cell_type": "code",
   "execution_count": 117,
   "metadata": {},
   "outputs": [],
   "source": [
    "n_dim = 2\n",
    "x_train, y_train = make_blobs(n_samples=80, n_features=n_dim, centers=[[1,1],[-1,-1],[1,-1],[-1,1]], shuffle=True, cluster_std=0.3)\n",
    "x_test, y_test = make_blobs(n_samples=20, n_features=n_dim, centers=[[1,1],[-1,-1],[1,-1],[-1,1]], shuffle=True, cluster_std=0.3)"
   ]
  },
  {
   "cell_type": "code",
   "execution_count": 118,
   "metadata": {},
   "outputs": [],
   "source": [
    "def label_map(y_, from_, to_):\n",
    "    y = numpy.copy(y_)\n",
    "    for f in from_:\n",
    "        y[y_ == f] = to_\n",
    "    return y\n",
    "\n",
    "y_train = label_map(y_train, [0, 1], 0)\n",
    "y_train = label_map(y_train, [2, 3], 1)\n",
    "y_test = label_map(y_test, [0, 1], 0)\n",
    "y_test = label_map(y_test, [2, 3], 1)"
   ]
  },
  {
   "cell_type": "code",
   "execution_count": 119,
   "metadata": {},
   "outputs": [
    {
     "data": {
      "image/png": "[encoded data removed]",
      "text/plain": [
       "<matplotlib.figure.Figure at 0x1a16d0d518>"
      ]
     },
     "metadata": {},
     "output_type": "display_data"
    }
   ],
   "source": [
    "def vis_data(x,y = None, c = 'r'):\n",
    "    if y is None:\n",
    "        y = [None] * len(x)\n",
    "    for x_, y_ in zip(x,y):\n",
    "        if y_ is None:\n",
    "            plot.plot(x_[0], x_[1], '*',markerfacecolor='none', markeredgecolor=c)\n",
    "        else:\n",
    "            plot.plot(x_[0], x_[1], c+'o' if y_ == 0 else c+'+')\n",
    "\n",
    "plot.figure()\n",
    "vis_data(x_train, y_train, c='r')\n",
    "plot.show()"
   ]
  },
  {
   "cell_type": "code",
   "execution_count": 120,
   "metadata": {},
   "outputs": [],
   "source": [
    "x_train = torch.FloatTensor(x_train)\n",
    "x_test = torch.FloatTensor(x_test)\n",
    "y_train = torch.FloatTensor(y_train)\n",
    "y_test = torch.FloatTensor(y_test)"
   ]
  },
  {
   "cell_type": "code",
   "execution_count": 121,
   "metadata": {},
   "outputs": [],
   "source": [
    "class NeuralNet(torch.nn.Module):\n",
    "        def __init__(self, input_size, hidden_size):\n",
    "            super(NeuralNet, self).__init__()\n",
    "            self.input_size = input_size\n",
    "            self.hidden_size  = hidden_size\n",
    "            self.linear_1 = torch.nn.Linear(self.input_size, self.hidden_size)\n",
    "            self.relu = torch.nn.ReLU()\n",
    "            self.linear_2 = torch.nn.Linear(self.hidden_size, 1)\n",
    "            self.sigmoid = torch.nn.Sigmoid()\n",
    "            \n",
    "        def forward(self, input_tensor):\n",
    "            linear1 = self.linear_1(input_tensor)\n",
    "            relu = self.relu(linear1)\n",
    "            linear2 = self.linear_2(relu)\n",
    "            output = self.sigmoid(linear2)\n",
    "            return output"
   ]
  },
  {
   "cell_type": "code",
   "execution_count": 122,
   "metadata": {},
   "outputs": [],
   "source": [
    "model = NeuralNet(2, 5)\n",
    "learning_rate = 0.03\n",
    "criterion = torch.nn.BCELoss()\n",
    "epochs = 1000\n",
    "optimizer = torch.optim.SGD(model.parameters(), lr = learning_rate)"
   ]
  },
  {
   "cell_type": "code",
   "execution_count": 123,
   "metadata": {},
   "outputs": [
    {
     "name": "stdout",
     "output_type": "stream",
     "text": [
      "Before Training, test loss is 0.6986902356147766\n"
     ]
    }
   ],
   "source": [
    "model.eval()\n",
    "test_loss_before = criterion(model(x_test).squeeze(), y_test)\n",
    "print('Before Training, test loss is {}'.format(test_loss_before.item()))"
   ]
  },
  {
   "cell_type": "markdown",
   "metadata": {},
   "source": [
    "오차값이 0.73 이 나왔습니다. 이정도의 오차를 가진 모델은 사실상 분류하는 능력이 없다고 봐도 무방합니다.\n",
    "자, 이제 드디어 인공신경망을 학습시켜 퍼포먼스를 향상시켜 보겠습니다."
   ]
  },
  {
   "cell_type": "code",
   "execution_count": 124,
   "metadata": {},
   "outputs": [
    {
     "name": "stdout",
     "output_type": "stream",
     "text": [
      "Train loss at 0 is 0.7074869871139526\n",
      "Train loss at 100 is 0.6346518993377686\n",
      "Train loss at 200 is 0.5857511162757874\n",
      "Train loss at 300 is 0.5401738882064819\n",
      "Train loss at 400 is 0.4985213875770569\n",
      "Train loss at 500 is 0.4663050174713135\n",
      "Train loss at 600 is 0.4425601363182068\n",
      "Train loss at 700 is 0.42557328939437866\n",
      "Train loss at 800 is 0.4127162992954254\n",
      "Train loss at 900 is 0.403198778629303\n"
     ]
    }
   ],
   "source": [
    "for epoch in range(epochs):\n",
    "    model.train()\n",
    "    optimizer.zero_grad()\n",
    "    train_output = model(x_train)\n",
    "    train_loss = criterion(train_output.squeeze(), y_train)\n",
    "    if epoch % 100 == 0:\n",
    "        print('Train loss at {} is {}'.format(epoch, train_loss.item()))\n",
    "    train_loss.backward()\n",
    "    optimizer.step()"
   ]
  },
  {
   "cell_type": "code",
   "execution_count": 125,
   "metadata": {},
   "outputs": [
    {
     "name": "stdout",
     "output_type": "stream",
     "text": [
      "After Training, test loss is 0.37813660502433777\n"
     ]
    }
   ],
   "source": [
    "model.eval()\n",
    "test_loss = criterion(model(x_test).squeeze(), y_test) \n",
    "print('After Training, test loss is {}'.format(test_loss.item()))"
   ]
  },
  {
   "cell_type": "markdown",
   "metadata": {},
   "source": [
    "학습을 하기 전과 비교했을때 현저하게 줄어든 오차값을 확인 하실 수 있습니다.\n",
    "지금까지 인공신경망을 구현하고 학습시켜 보았습니다.\n",
    "이제 학습된 모델을 .pt 파일로 저장해 보겠습니다."
   ]
  },
  {
   "cell_type": "code",
   "execution_count": 126,
   "metadata": {},
   "outputs": [],
   "source": [
    "torch.save(model.state_dict(), './model.pt')"
   ]
  },
  {
   "cell_type": "markdown",
   "metadata": {},
   "source": [
    "`save()` 를 실행하고 나면 학습된 신경망의 가중치를 내포하는 model.pt 라는 파일이 생성됩니다. 아래 코드처럼 새로운 신경망 객체에 model.pt 속의 가중치값을 입력시키는 것 또한 가능합니다."
   ]
  },
  {
   "cell_type": "code",
   "execution_count": 127,
   "metadata": {},
   "outputs": [
    {
     "name": "stdout",
     "output_type": "stream",
     "text": [
      "벡터 [-1, 1]이 레이블 1을 가질 확률은 0.46982789039611816\n"
     ]
    }
   ],
   "source": [
    "new_model = NeuralNet(2, 5)\n",
    "new_model.load_state_dict(torch.load('./model.pt'))\n",
    "new_model.eval()\n",
    "print('벡터 [-1, 1]이 레이블 1을 가질 확률은 {}'.format(new_model(torch.FloatTensor([-1,1])).item()))"
   ]
  },
  {
   "cell_type": "code",
   "execution_count": null,
   "metadata": {},
   "outputs": [],
   "source": []
  }
 ],
 "metadata": {
  "kernelspec": {
   "display_name": "Python 3",
   "language": "python",
   "name": "python3"
  },
  "language_info": {
   "codemirror_mode": {
    "name": "ipython",
    "version": 3
   },
   "file_extension": ".py",
   "mimetype": "text/x-python",
   "name": "python",
   "nbconvert_exporter": "python",
   "pygments_lexer": "ipython3",
   "version": "3.6.0"
  }
 },
 "nbformat": 4,
 "nbformat_minor": 2
}

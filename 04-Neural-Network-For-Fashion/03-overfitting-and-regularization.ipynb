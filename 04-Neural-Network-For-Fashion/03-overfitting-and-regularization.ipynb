{
 "cells": [
  {
   "cell_type": "markdown",
   "metadata": {},
   "source": [
    "# 4.3 오버피팅과 정규화 (Overfitting and Regularization)\n",
    "\n",
    "머신러닝 모델\n",
    "과적합(Overfitting)\n",
    "\n",
    "본 튜토리얼은 PyTorch의 공식 튜토리얼 (https://github.com/pytorch/examples/blob/master/mnist/main.py)을 참고하여 만들어졌습니다."
   ]
  },
  {
   "cell_type": "code",
   "execution_count": 1,
   "metadata": {},
   "outputs": [],
   "source": [
    "import torch\n",
    "import torchvision\n",
    "import torch.nn.functional as F\n",
    "from torch import nn, optim\n",
    "from torch.autograd import Variable\n",
    "from torchvision import datasets, transforms"
   ]
  },
  {
   "cell_type": "code",
   "execution_count": 2,
   "metadata": {},
   "outputs": [],
   "source": [
    "use_cuda = torch.cuda.is_available()\n",
    "device = torch.device(\"cuda\" if use_cuda else \"cpu\")"
   ]
  },
  {
   "cell_type": "code",
   "execution_count": 3,
   "metadata": {},
   "outputs": [],
   "source": [
    "epochs     = 100\n",
    "batch_size = 100"
   ]
  },
  {
   "attachments": {},
   "cell_type": "markdown",
   "metadata": {},
   "source": [
    "## 데이터셋에 노이즈 추가하기\n",
    "\n",
    "![original.png](./assets/original.png)\n",
    "\n",
    "![horizontalflip.png](./assets/horizontalflip.png)"
   ]
  },
  {
   "cell_type": "code",
   "execution_count": 4,
   "metadata": {},
   "outputs": [],
   "source": [
    "train_transform = transforms.Compose([\n",
    "    transforms.RandomHorizontalFlip(),\n",
    "    transforms.ToTensor()\n",
    "])\n",
    "test_transform = transforms.Compose([\n",
    "    transforms.ToTensor()\n",
    "])"
   ]
  },
  {
   "cell_type": "code",
   "execution_count": 5,
   "metadata": {},
   "outputs": [],
   "source": [
    "trainset = datasets.MNIST(\n",
    "    root      = './.data/', \n",
    "    train     = True,\n",
    "    download  = True,\n",
    "    transform = train_transform\n",
    ")\n",
    "testset = datasets.MNIST(\n",
    "    root      = './.data/', \n",
    "    train     = False,\n",
    "    download  = True,\n",
    "    transform = test_transform\n",
    ")\n",
    "\n",
    "train_loader = torch.utils.data.DataLoader(\n",
    "    dataset     = trainset,\n",
    "    batch_size  = batch_size,\n",
    "    shuffle     = True,\n",
    ")\n",
    "test_loader = torch.utils.data.DataLoader(\n",
    "    dataset     = testset,\n",
    "    batch_size  = batch_size,\n",
    "    shuffle     = True,\n",
    ")"
   ]
  },
  {
   "cell_type": "markdown",
   "metadata": {},
   "source": [
    "## 뉴럴넷으로 Fashion MNIST 학습하기\n",
    "\n",
    "입력 `x` 는 `[배치크기, 색, 높이, 넓이]`로 이루어져 있습니다.\n",
    "`x.size()`를 해보면 `[64, 1, 28, 28]`이라고 표시되는 것을 보실 수 있습니다.\n",
    "Fashion MNIST에서 이미지의 크기는 28 x 28, 색은 흑백으로 1 가지 입니다.\n",
    "그러므로 입력 x의 총 특성값 갯수는 28 x 28 x 1, 즉 784개 입니다.\n",
    "\n",
    "우리가 사용할 모델은 3개의 레이어를 가진 뉴럴네트워크 입니다. "
   ]
  },
  {
   "cell_type": "code",
   "execution_count": 6,
   "metadata": {},
   "outputs": [],
   "source": [
    "class Net(nn.Module):\n",
    "    def __init__(self, dropout_p=0.2):\n",
    "        super(Net, self).__init__()\n",
    "        self.fc1 = nn.Linear(784, 256)\n",
    "        self.fc2 = nn.Linear(256, 256)\n",
    "        self.fc3 = nn.Linear(256, 10)\n",
    "        self.dropout_p = dropout_p\n",
    "\n",
    "    def forward(self, x):\n",
    "        x = x.view(-1, 784)\n",
    "        x = F.relu(self.fc1(x))\n",
    "        x = F.dropout(x, training=self.training,\n",
    "                      p=self.dropout_p)\n",
    "        x = F.relu(self.fc2(x))\n",
    "        x = F.dropout(x, training=self.training,\n",
    "                      p=self.dropout_p)\n",
    "        x = self.fc3(x)\n",
    "        return x"
   ]
  },
  {
   "cell_type": "markdown",
   "metadata": {},
   "source": [
    "## 모델 준비하기 \n",
    "\n",
    "`to()` 함수는 모델의 파라미터들을 지정한 곳으로 보내는 역할을 합니다.\n",
    "일반적으로 CPU 1개만 사용할 경우 필요는 없지만,\n",
    "GPU를 사용하고자 하는 경우 `to(\"cuda\")`로 지정하여 GPU로 보내야 합니다.\n",
    "지정하지 않을 경우 계속 CPU에 남아 있게 되며 빠른 훈련의 이점을 누리실 수 없습니다.\n",
    "\n",
    "최적화 알고리즘으로 파이토치에 내장되어 있는 `optim.SGD`를 사용하겠습니다."
   ]
  },
  {
   "cell_type": "code",
   "execution_count": 7,
   "metadata": {},
   "outputs": [],
   "source": [
    "model        = Net(dropout_p=0.5).to(device)\n",
    "optimizer    = optim.Adam(model.parameters(), lr=0.001)"
   ]
  },
  {
   "cell_type": "markdown",
   "metadata": {},
   "source": [
    "## 훈련하기"
   ]
  },
  {
   "cell_type": "code",
   "execution_count": 8,
   "metadata": {},
   "outputs": [],
   "source": [
    "def train(model, device, train_loader, optimizer, epoch):\n",
    "    model.train()\n",
    "    for batch_idx, (data, target) in enumerate(train_loader):\n",
    "        data, target = data.to(device), target.to(device)\n",
    "        optimizer.zero_grad()\n",
    "        output = model(data)\n",
    "        loss = F.cross_entropy(output, target)\n",
    "        loss.backward()\n",
    "        optimizer.step()"
   ]
  },
  {
   "cell_type": "markdown",
   "metadata": {},
   "source": [
    "## 테스트하기\n",
    "\n",
    "아무리 훈련이 잘 되었다고 해도 실제 데이터를 만났을때 성능이 낮다면 쓸모 없는 모델일 것입니다.\n",
    "우리가 진정 원하는 것은 훈련 데이터에 최적화한 모델이 아니라 모든 데이터에서 높은 성능을 보이는 모델이기 때문입니다.\n",
    "세상에 존재하는 모든 데이터에 최적화 하는 것을 \"일반화\"라고 부르고\n",
    "모델이 얼마나 실제 데이터에 적응하는지를 수치로 나타낸 것을 \"일반화 오류\"(Generalization Error) 라고 합니다. \n",
    "\n",
    "우리가 만든 모델이 얼마나 일반화를 잘 하는지 알아보기 위해,\n",
    "그리고 언제 훈련을 멈추어야 할지 알기 위해\n",
    "매 이포크가 끝날때 마다 테스트셋으로 모델의 성능을 측정해보겠습니다."
   ]
  },
  {
   "cell_type": "code",
   "execution_count": 9,
   "metadata": {},
   "outputs": [],
   "source": [
    "def test(model, device, test_loader):\n",
    "    model.eval()\n",
    "    test_loss = 0\n",
    "    correct = 0\n",
    "    with torch.no_grad():\n",
    "        for data, target in test_loader:\n",
    "            data, target = data.to(device), target.to(device)\n",
    "            output = model(data)\n",
    "            test_loss += F.cross_entropy(output, target, size_average=False).item()\n",
    "            \n",
    "            # 맞춘 갯수 계산\n",
    "            pred = output.max(1, keepdim=True)[1]\n",
    "            correct += pred.eq(target.view_as(pred)).sum().item()\n",
    "\n",
    "    test_loss /= len(test_loader.dataset)\n",
    "    test_accuracy = 100. * correct / len(test_loader.dataset)\n",
    "    return test_loss, test_accuracy"
   ]
  },
  {
   "cell_type": "markdown",
   "metadata": {},
   "source": [
    "## 코드 돌려보기\n",
    "\n",
    "자, 이제 모든 준비가 끝났습니다. 코드를 돌려서 실제로 훈련이 되는지 확인해봅시다!"
   ]
  },
  {
   "cell_type": "code",
   "execution_count": 10,
   "metadata": {},
   "outputs": [
    {
     "name": "stdout",
     "output_type": "stream",
     "text": [
      "[1] Test Loss: 0.4881, Accuracy: 82.31%\n",
      "[2] Test Loss: 0.4421, Accuracy: 84.07%\n",
      "[3] Test Loss: 0.4132, Accuracy: 84.99%\n",
      "[4] Test Loss: 0.3950, Accuracy: 85.34%\n",
      "[5] Test Loss: 0.3893, Accuracy: 86.11%\n",
      "[6] Test Loss: 0.3838, Accuracy: 85.64%\n",
      "[7] Test Loss: 0.3744, Accuracy: 86.34%\n",
      "[8] Test Loss: 0.3689, Accuracy: 86.30%\n",
      "[9] Test Loss: 0.3661, Accuracy: 86.52%\n",
      "[10] Test Loss: 0.3637, Accuracy: 86.66%\n",
      "[11] Test Loss: 0.3594, Accuracy: 86.86%\n",
      "[12] Test Loss: 0.3602, Accuracy: 86.91%\n",
      "[13] Test Loss: 0.3553, Accuracy: 86.96%\n",
      "[14] Test Loss: 0.3536, Accuracy: 87.16%\n",
      "[15] Test Loss: 0.3504, Accuracy: 87.22%\n",
      "[16] Test Loss: 0.3430, Accuracy: 87.54%\n",
      "[17] Test Loss: 0.3527, Accuracy: 86.96%\n",
      "[18] Test Loss: 0.3446, Accuracy: 87.22%\n",
      "[19] Test Loss: 0.3427, Accuracy: 87.67%\n",
      "[20] Test Loss: 0.3396, Accuracy: 87.78%\n",
      "[21] Test Loss: 0.3367, Accuracy: 87.66%\n",
      "[22] Test Loss: 0.3368, Accuracy: 87.68%\n",
      "[23] Test Loss: 0.3447, Accuracy: 87.47%\n",
      "[24] Test Loss: 0.3449, Accuracy: 87.15%\n",
      "[25] Test Loss: 0.3361, Accuracy: 87.77%\n",
      "[26] Test Loss: 0.3331, Accuracy: 87.99%\n",
      "[27] Test Loss: 0.3295, Accuracy: 87.85%\n",
      "[28] Test Loss: 0.3374, Accuracy: 87.61%\n",
      "[29] Test Loss: 0.3351, Accuracy: 88.03%\n",
      "[30] Test Loss: 0.3313, Accuracy: 87.69%\n",
      "[31] Test Loss: 0.3249, Accuracy: 88.18%\n",
      "[32] Test Loss: 0.3264, Accuracy: 88.10%\n",
      "[33] Test Loss: 0.3342, Accuracy: 87.98%\n",
      "[34] Test Loss: 0.3301, Accuracy: 88.09%\n",
      "[35] Test Loss: 0.3262, Accuracy: 88.17%\n",
      "[36] Test Loss: 0.3236, Accuracy: 88.08%\n",
      "[37] Test Loss: 0.3234, Accuracy: 88.18%\n",
      "[38] Test Loss: 0.3368, Accuracy: 87.48%\n",
      "[39] Test Loss: 0.3328, Accuracy: 87.82%\n",
      "[40] Test Loss: 0.3277, Accuracy: 87.88%\n",
      "[41] Test Loss: 0.3216, Accuracy: 88.38%\n",
      "[42] Test Loss: 0.3234, Accuracy: 87.81%\n",
      "[43] Test Loss: 0.3233, Accuracy: 88.45%\n",
      "[44] Test Loss: 0.3162, Accuracy: 88.21%\n",
      "[45] Test Loss: 0.3236, Accuracy: 88.20%\n",
      "[46] Test Loss: 0.3281, Accuracy: 88.07%\n",
      "[47] Test Loss: 0.3233, Accuracy: 87.85%\n",
      "[48] Test Loss: 0.3250, Accuracy: 88.50%\n",
      "[49] Test Loss: 0.3194, Accuracy: 88.46%\n",
      "[50] Test Loss: 0.3177, Accuracy: 88.58%\n",
      "[51] Test Loss: 0.3269, Accuracy: 87.87%\n",
      "[52] Test Loss: 0.3240, Accuracy: 88.10%\n",
      "[53] Test Loss: 0.3184, Accuracy: 88.23%\n",
      "[54] Test Loss: 0.3196, Accuracy: 88.44%\n",
      "[55] Test Loss: 0.3165, Accuracy: 88.57%\n",
      "[56] Test Loss: 0.3243, Accuracy: 88.33%\n",
      "[57] Test Loss: 0.3174, Accuracy: 88.51%\n",
      "[58] Test Loss: 0.3195, Accuracy: 88.73%\n",
      "[59] Test Loss: 0.3190, Accuracy: 88.49%\n",
      "[60] Test Loss: 0.3167, Accuracy: 88.73%\n",
      "[61] Test Loss: 0.3218, Accuracy: 88.41%\n",
      "[62] Test Loss: 0.3186, Accuracy: 88.58%\n",
      "[63] Test Loss: 0.3208, Accuracy: 88.66%\n",
      "[64] Test Loss: 0.3125, Accuracy: 88.74%\n",
      "[65] Test Loss: 0.3178, Accuracy: 88.77%\n",
      "[66] Test Loss: 0.3210, Accuracy: 88.25%\n",
      "[67] Test Loss: 0.3132, Accuracy: 88.63%\n",
      "[68] Test Loss: 0.3169, Accuracy: 88.51%\n",
      "[69] Test Loss: 0.3151, Accuracy: 88.53%\n",
      "[70] Test Loss: 0.3122, Accuracy: 88.71%\n",
      "[71] Test Loss: 0.3185, Accuracy: 88.51%\n",
      "[72] Test Loss: 0.3193, Accuracy: 88.42%\n",
      "[73] Test Loss: 0.3168, Accuracy: 88.76%\n",
      "[74] Test Loss: 0.3160, Accuracy: 88.63%\n",
      "[75] Test Loss: 0.3107, Accuracy: 88.80%\n",
      "[76] Test Loss: 0.3202, Accuracy: 88.54%\n",
      "[77] Test Loss: 0.3126, Accuracy: 89.04%\n",
      "[78] Test Loss: 0.3141, Accuracy: 88.80%\n",
      "[79] Test Loss: 0.3144, Accuracy: 88.79%\n",
      "[80] Test Loss: 0.3153, Accuracy: 88.45%\n",
      "[81] Test Loss: 0.3055, Accuracy: 88.83%\n",
      "[82] Test Loss: 0.3122, Accuracy: 88.74%\n",
      "[83] Test Loss: 0.3119, Accuracy: 88.64%\n",
      "[84] Test Loss: 0.3106, Accuracy: 89.05%\n",
      "[85] Test Loss: 0.3108, Accuracy: 88.80%\n",
      "[86] Test Loss: 0.3144, Accuracy: 88.53%\n",
      "[87] Test Loss: 0.3096, Accuracy: 88.82%\n",
      "[88] Test Loss: 0.3185, Accuracy: 88.65%\n",
      "[89] Test Loss: 0.3159, Accuracy: 88.84%\n",
      "[90] Test Loss: 0.3067, Accuracy: 89.22%\n",
      "[91] Test Loss: 0.3131, Accuracy: 88.82%\n",
      "[92] Test Loss: 0.3187, Accuracy: 88.42%\n",
      "[93] Test Loss: 0.3136, Accuracy: 88.98%\n",
      "[94] Test Loss: 0.3192, Accuracy: 88.81%\n",
      "[95] Test Loss: 0.3168, Accuracy: 88.11%\n",
      "[96] Test Loss: 0.3135, Accuracy: 88.67%\n",
      "[97] Test Loss: 0.3138, Accuracy: 88.46%\n",
      "[98] Test Loss: 0.3055, Accuracy: 89.01%\n",
      "[99] Test Loss: 0.3251, Accuracy: 88.48%\n",
      "[100] Test Loss: 0.3188, Accuracy: 89.04%\n"
     ]
    }
   ],
   "source": [
    "for epoch in range(1, epochs + 1):\n",
    "    train(model, device, train_loader, optimizer, epoch)\n",
    "    test_loss, test_accuracy = test(model, device, test_loader)\n",
    "    \n",
    "    print('[{}] Test Loss: {:.4f}, Accuracy: {:.2f}%'.format(\n",
    "          epoch, test_loss, test_accuracy))"
   ]
  },
  {
   "cell_type": "code",
   "execution_count": null,
   "metadata": {},
   "outputs": [],
   "source": []
  }
 ],
 "metadata": {
  "kernelspec": {
   "display_name": "Python 3",
   "language": "python",
   "name": "python3"
  },
  "language_info": {
   "codemirror_mode": {
    "name": "ipython",
    "version": 3
   },
   "file_extension": ".py",
   "mimetype": "text/x-python",
   "name": "python",
   "nbconvert_exporter": "python",
   "pygments_lexer": "ipython3",
   "version": "3.5.2"
  }
 },
 "nbformat": 4,
 "nbformat_minor": 2
}

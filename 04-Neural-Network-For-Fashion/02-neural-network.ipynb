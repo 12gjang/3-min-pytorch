{
 "cells": [
  {
   "cell_type": "markdown",
   "metadata": {},
   "source": [
    "# 4.2 뉴럴넷으로 패션 아이템 구분하기\n",
    "Fashion MNIST 데이터셋과 앞서 배운 인공신경망을 이용하여 패션아이템을 구분해봅니다.\n",
    "\n",
    "본 튜토리얼은 PyTorch의 공식 튜토리얼 (https://github.com/pytorch/examples/blob/master/mnist/main.py)을 참고하여 만들어졌습니다."
   ]
  },
  {
   "cell_type": "code",
   "execution_count": 1,
   "metadata": {},
   "outputs": [],
   "source": [
    "import torch\n",
    "import torchvision\n",
    "import torch.nn.functional as F\n",
    "from torch import nn, optim\n",
    "from torch.autograd import Variable\n",
    "from torchvision import transforms, datasets"
   ]
  },
  {
   "cell_type": "code",
   "execution_count": 2,
   "metadata": {},
   "outputs": [],
   "source": [
    "use_cuda = torch.cuda.is_available()\n",
    "device = torch.device(\"cuda\" if use_cuda else \"cpu\")"
   ]
  },
  {
   "cell_type": "code",
   "execution_count": 3,
   "metadata": {},
   "outputs": [],
   "source": [
    "epochs = 40\n",
    "batch_size = 100"
   ]
  },
  {
   "cell_type": "code",
   "execution_count": 4,
   "metadata": {},
   "outputs": [],
   "source": [
    "transform = transforms.Compose([\n",
    "    transforms.ToTensor()\n",
    "])"
   ]
  },
  {
   "cell_type": "markdown",
   "metadata": {},
   "source": [
    "## 데이터셋 불러오기"
   ]
  },
  {
   "cell_type": "code",
   "execution_count": 5,
   "metadata": {},
   "outputs": [],
   "source": [
    "trainset = datasets.FashionMNIST(\n",
    "    root      = './.data/', \n",
    "    train     = True,\n",
    "    download  = True,\n",
    "    transform = transform\n",
    ")\n",
    "testset = datasets.FashionMNIST(\n",
    "    root      = './.data/', \n",
    "    train     = False,\n",
    "    download  = True,\n",
    "    transform = transform\n",
    ")\n",
    "\n",
    "train_loader = torch.utils.data.DataLoader(\n",
    "    dataset     = trainset,\n",
    "    batch_size  = batch_size,\n",
    "    shuffle     = True,\n",
    ")\n",
    "test_loader = torch.utils.data.DataLoader(\n",
    "    dataset     = testset,\n",
    "    batch_size  = batch_size,\n",
    "    shuffle     = True,\n",
    ")"
   ]
  },
  {
   "cell_type": "markdown",
   "metadata": {},
   "source": [
    "## 뉴럴넷으로 Fashion MNIST 학습하기\n",
    "\n",
    "입력 `x` 는 `[배치크기, 색, 높이, 넓이]`로 이루어져 있습니다.\n",
    "`x.size()`를 해보면 `[64, 1, 28, 28]`이라고 표시되는 것을 보실 수 있습니다.\n",
    "Fashion MNIST에서 이미지의 크기는 28 x 28, 색은 흑백으로 1 가지 입니다.\n",
    "그러므로 입력 x의 총 특성값 갯수는 28 x 28 x 1, 즉 784개 입니다.\n",
    "\n",
    "우리가 사용할 모델은 3개의 레이어를 가진 뉴럴네트워크 입니다. "
   ]
  },
  {
   "cell_type": "code",
   "execution_count": 6,
   "metadata": {},
   "outputs": [],
   "source": [
    "class Net(nn.Module):\n",
    "    def __init__(self):\n",
    "        super(Net, self).__init__()\n",
    "        self.fc1 = nn.Linear(784, 512)\n",
    "        self.fc2 = nn.Linear(512, 256)\n",
    "        self.fc3 = nn.Linear(256, 10)\n",
    "\n",
    "    def forward(self, x):\n",
    "        x = x.view(-1, 784)\n",
    "        x = F.relu(self.fc1(x))\n",
    "        x = F.relu(self.fc2(x))\n",
    "        x = self.fc3(x)\n",
    "        return x"
   ]
  },
  {
   "cell_type": "markdown",
   "metadata": {},
   "source": [
    "## 모델 준비하기\n",
    "\n",
    "`to()` 함수는 모델의 파라미터들을 지정한 곳으로 보내는 역할을 합니다.\n",
    "일반적으로 CPU 1개만 사용할 경우 필요는 없지만,\n",
    "GPU를 사용하고자 하는 경우 `to(\"cuda\")`로 지정하여 GPU로 보내야 합니다.\n",
    "지정하지 않을 경우 계속 CPU에 남아 있게 되며 빠른 훈련의 이점을 누리실 수 없습니다.\n",
    "\n",
    "최적화 알고리즘으로 파이토치에 내장되어 있는 `optim.SGD`를 사용하겠습니다."
   ]
  },
  {
   "cell_type": "code",
   "execution_count": 7,
   "metadata": {},
   "outputs": [],
   "source": [
    "model        = Net().to(device)\n",
    "optimizer    = optim.Adam(model.parameters(), lr=0.001)"
   ]
  },
  {
   "cell_type": "markdown",
   "metadata": {},
   "source": [
    "## 훈련하기"
   ]
  },
  {
   "cell_type": "code",
   "execution_count": 8,
   "metadata": {},
   "outputs": [],
   "source": [
    "def train(model, device, train_loader, optimizer, epoch):\n",
    "    model.train()\n",
    "    for batch_idx, (data, target) in enumerate(train_loader):\n",
    "        data, target = data.to(device), target.to(device)\n",
    "        optimizer.zero_grad()\n",
    "        output = model(data)\n",
    "        loss = F.cross_entropy(output, target)\n",
    "        loss.backward()\n",
    "        optimizer.step()"
   ]
  },
  {
   "cell_type": "markdown",
   "metadata": {},
   "source": [
    "## 테스트하기\n",
    "\n",
    "아무리 훈련이 잘 되었다고 해도 실제 데이터를 만났을때 성능이 낮다면 쓸모 없는 모델일 것입니다.\n",
    "우리가 진정 원하는 것은 훈련 데이터에 최적화한 모델이 아니라 모든 데이터에서 높은 성능을 보이는 모델이기 때문입니다.\n",
    "세상에 존재하는 모든 데이터에 최적화 하는 것을 \"일반화\"라고 부르고\n",
    "모델이 얼마나 실제 데이터에 적응하는지를 수치로 나타낸 것을 \"일반화 오류\"(Generalization Error) 라고 합니다. \n",
    "\n",
    "우리가 만든 모델이 얼마나 일반화를 잘 하는지 알아보기 위해,\n",
    "그리고 언제 훈련을 멈추어야 할지 알기 위해\n",
    "매 이포크가 끝날때 마다 테스트셋으로 모델의 성능을 측정해보겠습니다."
   ]
  },
  {
   "cell_type": "code",
   "execution_count": 9,
   "metadata": {},
   "outputs": [],
   "source": [
    "def test(model, device, test_loader):\n",
    "    model.eval()\n",
    "    test_loss = 0\n",
    "    correct = 0\n",
    "    with torch.no_grad():\n",
    "        for data, target in test_loader:\n",
    "            data, target = data.to(device), target.to(device)\n",
    "            output = model(data)\n",
    "            test_loss += F.cross_entropy(output, target, size_average=False).item() # sum up batch loss\n",
    "            pred = output.max(1, keepdim=True)[1] # get the index of the max log-probability\n",
    "            correct += pred.eq(target.view_as(pred)).sum().item()\n",
    "    test_loss /= len(test_loader.dataset)\n",
    "    return test_loss, correct"
   ]
  },
  {
   "cell_type": "markdown",
   "metadata": {},
   "source": [
    "## 코드 돌려보기\n",
    "\n",
    "자, 이제 모든 준비가 끝났습니다. 코드를 돌려서 실제로 훈련이 되는지 확인해봅시다!"
   ]
  },
  {
   "cell_type": "code",
   "execution_count": 10,
   "metadata": {},
   "outputs": [
    {
     "name": "stdout",
     "output_type": "stream",
     "text": [
      "[1] Test Loss: 0.3849, Accuracy: 8562/10000 (85.62%)\n",
      "[2] Test Loss: 0.3509, Accuracy: 8724/10000 (87.24%)\n",
      "[3] Test Loss: 0.3436, Accuracy: 8746/10000 (87.46%)\n",
      "[4] Test Loss: 0.3395, Accuracy: 8795/10000 (87.95%)\n",
      "[5] Test Loss: 0.3369, Accuracy: 8809/10000 (88.09%)\n",
      "[6] Test Loss: 0.3636, Accuracy: 8734/10000 (87.34%)\n",
      "[7] Test Loss: 0.3355, Accuracy: 8818/10000 (88.18%)\n",
      "[8] Test Loss: 0.3450, Accuracy: 8864/10000 (88.64%)\n",
      "[9] Test Loss: 0.3340, Accuracy: 8857/10000 (88.57%)\n",
      "[10] Test Loss: 0.3588, Accuracy: 8783/10000 (87.83%)\n",
      "[11] Test Loss: 0.3708, Accuracy: 8856/10000 (88.56%)\n",
      "[12] Test Loss: 0.3654, Accuracy: 8887/10000 (88.87%)\n",
      "[13] Test Loss: 0.3513, Accuracy: 8901/10000 (89.01%)\n",
      "[14] Test Loss: 0.3625, Accuracy: 8900/10000 (89.00%)\n",
      "[15] Test Loss: 0.3864, Accuracy: 8890/10000 (88.90%)\n",
      "[16] Test Loss: 0.3932, Accuracy: 8908/10000 (89.08%)\n",
      "[17] Test Loss: 0.3969, Accuracy: 8887/10000 (88.87%)\n",
      "[18] Test Loss: 0.4535, Accuracy: 8855/10000 (88.55%)\n",
      "[19] Test Loss: 0.4383, Accuracy: 8887/10000 (88.87%)\n",
      "[20] Test Loss: 0.4428, Accuracy: 8914/10000 (89.14%)\n",
      "[21] Test Loss: 0.4489, Accuracy: 8934/10000 (89.34%)\n",
      "[22] Test Loss: 0.4757, Accuracy: 8917/10000 (89.17%)\n",
      "[23] Test Loss: 0.4869, Accuracy: 8892/10000 (88.92%)\n",
      "[24] Test Loss: 0.4793, Accuracy: 8902/10000 (89.02%)\n",
      "[25] Test Loss: 0.4856, Accuracy: 8913/10000 (89.13%)\n",
      "[26] Test Loss: 0.4845, Accuracy: 8929/10000 (89.29%)\n",
      "[27] Test Loss: 0.5035, Accuracy: 8969/10000 (89.69%)\n",
      "[28] Test Loss: 0.5074, Accuracy: 8928/10000 (89.28%)\n",
      "[29] Test Loss: 0.5381, Accuracy: 8946/10000 (89.46%)\n",
      "[30] Test Loss: 0.5776, Accuracy: 8936/10000 (89.36%)\n",
      "[31] Test Loss: 0.5995, Accuracy: 8924/10000 (89.24%)\n",
      "[32] Test Loss: 0.5790, Accuracy: 8934/10000 (89.34%)\n",
      "[33] Test Loss: 0.6176, Accuracy: 8936/10000 (89.36%)\n",
      "[34] Test Loss: 0.6123, Accuracy: 8925/10000 (89.25%)\n",
      "[35] Test Loss: 0.5992, Accuracy: 8963/10000 (89.63%)\n",
      "[36] Test Loss: 0.6374, Accuracy: 8961/10000 (89.61%)\n",
      "[37] Test Loss: 0.6602, Accuracy: 8866/10000 (88.66%)\n",
      "[38] Test Loss: 0.6550, Accuracy: 8914/10000 (89.14%)\n",
      "[39] Test Loss: 0.7275, Accuracy: 8882/10000 (88.82%)\n",
      "[40] Test Loss: 0.6899, Accuracy: 8893/10000 (88.93%)\n"
     ]
    }
   ],
   "source": [
    "for epoch in range(1, epochs + 1):\n",
    "    train(model, device, train_loader, optimizer, epoch)\n",
    "    test_loss, correct = test(model, device, test_loader)\n",
    "    \n",
    "    print('[{}] Test Loss: {:.4f}, Accuracy: {}/{} ({:.2f}%)'.format(\n",
    "        epoch, test_loss, correct, len(test_loader.dataset),\n",
    "        100. * correct / len(test_loader.dataset)))"
   ]
  }
 ],
 "metadata": {
  "kernelspec": {
   "display_name": "Python 3",
   "language": "python",
   "name": "python3"
  },
  "language_info": {
   "codemirror_mode": {
    "name": "ipython",
    "version": 3
   },
   "file_extension": ".py",
   "mimetype": "text/x-python",
   "name": "python",
   "nbconvert_exporter": "python",
   "pygments_lexer": "ipython3",
   "version": "3.5.2"
  }
 },
 "nbformat": 4,
 "nbformat_minor": 2
}

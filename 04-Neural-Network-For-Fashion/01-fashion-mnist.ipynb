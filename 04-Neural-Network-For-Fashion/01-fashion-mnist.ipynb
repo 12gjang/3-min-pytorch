{
 "cells": [
  {
   "cell_type": "markdown",
   "metadata": {},
   "source": [
    "# 4.1 Fashion MNIST 데이터셋 알아보기"
   ]
  },
  {
   "cell_type": "code",
   "execution_count": 1,
   "metadata": {},
   "outputs": [],
   "source": [
    "%matplotlib inline\n",
    "from torchvision import datasets, transforms, utils\n",
    "from torch.utils import data\n",
    "\n",
    "import matplotlib.pyplot as plt\n",
    "import numpy as np"
   ]
  },
  {
   "cell_type": "markdown",
   "metadata": {},
   "source": [
    "## [개념] Fashion MNIST 데이터셋 설명"
   ]
  },
  {
   "cell_type": "code",
   "execution_count": 2,
   "metadata": {},
   "outputs": [],
   "source": [
    "transform = transforms.Compose([\n",
    "    transforms.ToTensor()\n",
    "])"
   ]
  },
  {
   "cell_type": "code",
   "execution_count": 3,
   "metadata": {},
   "outputs": [],
   "source": [
    "trainset = datasets.FashionMNIST(\n",
    "    root      = './.data/', \n",
    "    train     = True,\n",
    "    download  = True,\n",
    "    transform = transform\n",
    ")\n",
    "testset = datasets.FashionMNIST(\n",
    "    root      = './.data/', \n",
    "    train     = False,\n",
    "    download  = True,\n",
    "    transform = transform\n",
    ")"
   ]
  },
  {
   "cell_type": "code",
   "execution_count": 4,
   "metadata": {},
   "outputs": [],
   "source": [
    "batch_size = 16\n",
    "\n",
    "train_loader = data.DataLoader(\n",
    "    dataset     = trainset,\n",
    "    batch_size  = batch_size,\n",
    "    shuffle     = True,\n",
    "    num_workers = 2\n",
    ")\n",
    "test_loader = data.DataLoader(\n",
    "    dataset     = testset,\n",
    "    batch_size  = batch_size,\n",
    "    shuffle     = True,\n",
    "    num_workers = 2\n",
    ")"
   ]
  },
  {
   "cell_type": "code",
   "execution_count": 5,
   "metadata": {},
   "outputs": [],
   "source": [
    "dataiter       = iter(train_loader)\n",
    "images, labels = next(dataiter)"
   ]
  },
  {
   "cell_type": "markdown",
   "metadata": {},
   "source": [
    "## 멀리서 살펴보기\n",
    "\n",
    "누군가 \"숲을 먼저 보고 나무를 보라\"고 했습니다. 데이터셋을 먼저 전체적으로 살펴보며 어떤 느낌인지 알아보겠습니다."
   ]
  },
  {
   "cell_type": "code",
   "execution_count": 6,
   "metadata": {},
   "outputs": [
    {
     "data": {
      "image/png": "[encoded data removed]",
      "text/plain": [
       "<matplotlib.figure.Figure at 0x7fd6d7fc4a20>"
      ]
     },
     "metadata": {},
     "output_type": "display_data"
    }
   ],
   "source": [
    "img   = utils.make_grid(images, padding=0)\n",
    "npimg = img.numpy()\n",
    "plt.figure(figsize=(10, 7))\n",
    "plt.imshow(np.transpose(npimg, (1,2,0)))\n",
    "plt.show()"
   ]
  },
  {
   "cell_type": "code",
   "execution_count": 7,
   "metadata": {},
   "outputs": [
    {
     "name": "stdout",
     "output_type": "stream",
     "text": [
      "앵클부츠\n",
      "샌들\n",
      "바지\n",
      "셔츠\n",
      "스웨터\n",
      "가방\n",
      "스웨터\n",
      "샌들\n",
      "앵클부츠\n",
      "스웨터\n",
      "운동화\n",
      "앵클부츠\n",
      "바지\n",
      "샌들\n",
      "티셔츠\n",
      "샌들\n"
     ]
    }
   ],
   "source": [
    "CLASSES = {\n",
    "    0: 'T-shirt/top',\n",
    "    1: 'Trouser',\n",
    "    2: 'Pullover',\n",
    "    3: 'Dress',\n",
    "    4: 'Coat',\n",
    "    5: 'Sandal',\n",
    "    6: 'Shirt',\n",
    "    7: 'Sneaker',\n",
    "    8: 'Bag',\n",
    "    9: 'Ankle boot'\n",
    "}\n",
    "\n",
    "KR_CLASSES = {\n",
    "    0: '티셔츠',\n",
    "    1: '바지',\n",
    "    2: '스웨터',\n",
    "    3: '드레스',\n",
    "    4: '코트',\n",
    "    5: '샌들',\n",
    "    6: '셔츠',\n",
    "    7: '운동화',\n",
    "    8: '가방',\n",
    "    9: '앵클부츠'\n",
    "}\n",
    "\n",
    "for label in labels:\n",
    "    index = label.item()\n",
    "    print(KR_CLASSES[index])"
   ]
  },
  {
   "cell_type": "markdown",
   "metadata": {},
   "source": [
    "## 가까이서 살펴보기\n",
    "\n",
    "또 누군가는 \"숲만 보지 말고 나무를 보라\"고 합니다. 이제 전체적인 느낌을 알았으니 개별적으로 살펴보겠습니다."
   ]
  },
  {
   "cell_type": "code",
   "execution_count": 15,
   "metadata": {},
   "outputs": [
    {
     "data": {
      "image/png": "[encoded data removed]",
      "text/plain": [
       "<matplotlib.figure.Figure at 0x7fd722a7fb00>"
      ]
     },
     "metadata": {},
     "output_type": "display_data"
    }
   ],
   "source": [
    "idx = 0\n",
    "\n",
    "item_img = images[idx]\n",
    "item_npimg = img.squeeze().numpy()\n",
    "plt.title(CLASSES[labels[idx].item()])\n",
    "plt.imshow(item_npimg, cmap='gray')\n",
    "plt.show()"
   ]
  },
  {
   "cell_type": "code",
   "execution_count": 11,
   "metadata": {},
   "outputs": [
    {
     "data": {
      "text/plain": [
       "torch.Size([1, 28, 28])"
      ]
     },
     "execution_count": 11,
     "metadata": {},
     "output_type": "execute_result"
    }
   ],
   "source": [
    "img.size()"
   ]
  },
  {
   "cell_type": "code",
   "execution_count": 12,
   "metadata": {},
   "outputs": [
    {
     "data": {
      "text/plain": [
       "tensor(1.)"
      ]
     },
     "execution_count": 12,
     "metadata": {},
     "output_type": "execute_result"
    }
   ],
   "source": [
    "img.max()"
   ]
  },
  {
   "cell_type": "code",
   "execution_count": 13,
   "metadata": {},
   "outputs": [
    {
     "data": {
      "text/plain": [
       "tensor(0.)"
      ]
     },
     "execution_count": 13,
     "metadata": {},
     "output_type": "execute_result"
    }
   ],
   "source": [
    "img.min()"
   ]
  },
  {
   "cell_type": "code",
   "execution_count": 14,
   "metadata": {},
   "outputs": [
    {
     "data": {
      "text/plain": [
       "tensor([[[ 0.0000,  0.0000,  0.0000,  0.0000,  0.0000,  0.0000,  0.0000,\n",
       "           0.0000,  0.0000,  0.0000,  0.0000,  0.0000,  0.0000,  0.0000,\n",
       "           0.0000,  0.0000,  0.0000,  0.0000,  0.0000,  0.0000,  0.0000,\n",
       "           0.0000,  0.0000,  0.0000,  0.0000,  0.0000,  0.0000,  0.0000],\n",
       "         [ 0.0000,  0.0000,  0.0000,  0.0000,  0.0000,  0.0000,  0.0000,\n",
       "           0.0000,  0.0000,  0.0000,  0.0000,  0.0000,  0.0000,  0.0000,\n",
       "           0.0000,  0.0000,  0.0000,  0.0000,  0.0000,  0.0000,  0.0000,\n",
       "           0.0000,  0.0000,  0.0000,  0.0000,  0.0000,  0.0000,  0.0000],\n",
       "         [ 0.0000,  0.0000,  0.0000,  0.0000,  0.0000,  0.0000,  0.0000,\n",
       "           0.0000,  0.0000,  0.0000,  0.0000,  0.0000,  0.0000,  0.0000,\n",
       "           0.0000,  0.0000,  0.0000,  0.0000,  0.0000,  0.0000,  0.0000,\n",
       "           0.0000,  0.0000,  0.0000,  0.0000,  0.0000,  0.0000,  0.0000],\n",
       "         [ 0.0000,  0.0000,  0.0000,  0.0000,  0.0000,  0.0000,  0.0000,\n",
       "           0.0000,  0.0000,  0.0000,  0.0000,  0.0000,  0.0000,  0.0000,\n",
       "           0.0000,  0.0000,  0.0000,  0.0000,  0.0000,  0.0000,  0.0000,\n",
       "           0.0000,  0.0000,  0.0000,  0.0000,  0.0000,  0.0000,  0.0000],\n",
       "         [ 0.0000,  0.0000,  0.0000,  0.0000,  0.0000,  0.0000,  0.0000,\n",
       "           0.0000,  0.0000,  0.0000,  0.0000,  0.0000,  0.0000,  0.0000,\n",
       "           0.0000,  0.0000,  0.0000,  0.0000,  0.0000,  0.0000,  0.0000,\n",
       "           0.0000,  0.0000,  0.0000,  0.0000,  0.0000,  0.0000,  0.0000],\n",
       "         [ 0.0000,  0.0000,  0.0000,  0.0000,  0.0000,  0.0000,  0.0000,\n",
       "           0.0000,  0.0000,  0.0000,  0.0000,  0.0000,  0.0039,  0.0000,\n",
       "           0.0000,  0.6078,  0.6431,  0.6078,  0.5804,  0.5922,  0.5804,\n",
       "           0.6000,  0.4902,  0.4000,  0.2980,  0.1922,  0.1529,  0.0000],\n",
       "         [ 0.0000,  0.0000,  0.0000,  0.0000,  0.0000,  0.0000,  0.0000,\n",
       "           0.0000,  0.0000,  0.0000,  0.0000,  0.0000,  0.0118,  0.0000,\n",
       "           0.0000,  0.9373,  0.8588,  0.9020,  0.8980,  0.9059,  0.9020,\n",
       "           0.8941,  0.9137,  0.9608,  0.8588,  0.8314,  0.8157,  0.0000],\n",
       "         [ 0.0000,  0.0000,  0.0000,  0.0000,  0.0000,  0.0000,  0.0000,\n",
       "           0.0000,  0.0000,  0.0000,  0.0000,  0.0000,  0.0078,  0.0000,\n",
       "           0.0902,  0.9137,  0.8039,  0.8196,  0.8078,  0.8196,  0.7843,\n",
       "           0.7686,  0.7765,  0.7843,  0.7961,  0.8078,  0.6039,  0.0000],\n",
       "         [ 0.0000,  0.0000,  0.0000,  0.0000,  0.0000,  0.0000,  0.0000,\n",
       "           0.0000,  0.0000,  0.0000,  0.0000,  0.0000,  0.0078,  0.0000,\n",
       "           0.3569,  0.8471,  0.8275,  0.8118,  0.8314,  0.8510,  0.8078,\n",
       "           0.7922,  0.8235,  0.8353,  0.7922,  0.8118,  0.4941,  0.0000],\n",
       "         [ 0.0000,  0.0000,  0.0000,  0.0000,  0.0000,  0.0000,  0.0000,\n",
       "           0.0000,  0.0000,  0.0000,  0.0000,  0.0000,  0.0000,  0.0000,\n",
       "           0.5882,  0.8235,  0.8431,  0.8118,  0.8157,  0.8392,  0.8078,\n",
       "           0.8039,  0.8196,  0.8039,  0.7804,  0.8275,  0.3765,  0.0000],\n",
       "         [ 0.0000,  0.0000,  0.0000,  0.0000,  0.0000,  0.0000,  0.0000,\n",
       "           0.0000,  0.0000,  0.0000,  0.0000,  0.0000,  0.0000,  0.0000,\n",
       "           0.8157,  0.8235,  0.8588,  0.7961,  0.8235,  0.8431,  0.8039,\n",
       "           0.8000,  0.7961,  0.7765,  0.7843,  0.8471,  0.3843,  0.0000],\n",
       "         [ 0.0000,  0.0000,  0.0000,  0.0000,  0.0000,  0.0000,  0.0000,\n",
       "           0.0000,  0.0000,  0.0000,  0.0000,  0.0000,  0.0000,  0.3137,\n",
       "           0.9882,  0.8118,  0.8588,  0.8275,  0.8275,  0.8471,  0.8078,\n",
       "           0.7922,  0.7882,  0.8275,  0.7725,  0.8157,  0.4745,  0.0000],\n",
       "         [ 0.0039,  0.0000,  0.0000,  0.0000,  0.0000,  0.0000,  0.0039,\n",
       "           0.0000,  0.0000,  0.0039,  0.0039,  0.0000,  0.0000,  0.8157,\n",
       "           0.8039,  0.8275,  0.8510,  0.8431,  0.8235,  0.8235,  0.8275,\n",
       "           0.7765,  0.7333,  0.7765,  0.7804,  0.8000,  0.5922,  0.0000],\n",
       "         [ 0.0000,  0.0039,  0.0039,  0.0039,  0.0000,  0.0000,  0.0000,\n",
       "           0.0000,  0.0000,  0.0078,  0.0000,  0.0000,  0.5843,  0.8902,\n",
       "           0.7804,  0.8353,  0.8314,  0.8235,  0.8157,  0.8118,  0.8196,\n",
       "           0.7882,  0.7608,  0.7686,  0.7059,  0.8039,  0.7647,  0.0000],\n",
       "         [ 0.0039,  0.0039,  0.0000,  0.0039,  0.0000,  0.0000,  0.0000,\n",
       "           0.0000,  0.0078,  0.0000,  0.0000,  0.3529,  0.9294,  0.7333,\n",
       "           0.7804,  0.8000,  0.7961,  0.8039,  0.8275,  0.7882,  0.8078,\n",
       "           0.8314,  0.7922,  0.8118,  0.7294,  0.6549,  0.8196,  0.0667],\n",
       "         [ 0.0000,  0.0000,  0.0000,  0.0000,  0.0039,  0.0000,  0.0000,\n",
       "           0.0078,  0.0000,  0.0000,  0.1608,  0.8000,  0.7176,  0.7255,\n",
       "           0.7529,  0.7922,  0.7961,  0.8118,  0.8235,  0.8039,  0.7961,\n",
       "           0.7686,  0.7176,  0.7569,  0.6980,  0.5608,  0.7882,  0.2314],\n",
       "         [ 0.0000,  0.0039,  0.0118,  0.0118,  0.0078,  0.0118,  0.0078,\n",
       "           0.0000,  0.0000,  0.1725,  0.7882,  0.7059,  0.6941,  0.7294,\n",
       "           0.7412,  0.7804,  0.8157,  0.7804,  0.8039,  0.7882,  0.7647,\n",
       "           0.6392,  0.6627,  0.7020,  0.6549,  0.5922,  0.7922,  0.3569],\n",
       "         [ 0.0157,  0.0039,  0.0000,  0.0000,  0.0000,  0.0000,  0.0000,\n",
       "           0.0000,  0.3412,  0.8118,  0.7098,  0.7216,  0.7137,  0.7451,\n",
       "           0.7804,  0.7804,  0.7765,  0.7373,  0.7647,  0.7686,  0.7608,\n",
       "           0.7020,  0.7098,  0.6784,  0.6353,  0.5922,  0.7647,  0.3176],\n",
       "         [ 0.0000,  0.0000,  0.0000,  0.0000,  0.0000,  0.0706,  0.3686,\n",
       "           0.6667,  0.7765,  0.6627,  0.7255,  0.7451,  0.7137,  0.7765,\n",
       "           0.7804,  0.7804,  0.8000,  0.8078,  0.7765,  0.7725,  0.7412,\n",
       "           0.7137,  0.6980,  0.7333,  0.7137,  0.6902,  0.8824,  0.2667],\n",
       "         [ 0.0000,  0.4118,  0.5647,  0.5294,  0.6000,  0.7255,  0.7137,\n",
       "           0.6471,  0.6039,  0.6667,  0.7569,  0.7020,  0.7529,  0.7647,\n",
       "           0.7569,  0.7804,  0.7412,  0.7216,  0.7765,  0.8235,  0.7608,\n",
       "           0.7686,  0.8118,  0.8078,  0.8118,  0.7451,  0.8745,  0.2510],\n",
       "         [ 0.2941,  0.7725,  0.6588,  0.6471,  0.6353,  0.6392,  0.6314,\n",
       "           0.6627,  0.6745,  0.7059,  0.7373,  0.7608,  0.7412,  0.7373,\n",
       "           0.7098,  0.7333,  0.7765,  0.9686,  1.0000,  0.6745,  0.7686,\n",
       "           0.8196,  0.7804,  0.7765,  0.7569,  0.7059,  0.8196,  0.2078],\n",
       "         [ 0.4078,  0.8471,  0.8078,  0.8196,  0.7843,  0.7765,  0.7569,\n",
       "           0.7294,  0.7137,  0.7176,  0.7020,  0.7098,  0.7216,  0.7686,\n",
       "           0.8118,  0.9686,  0.7569,  0.4000,  0.0118,  0.0000,  0.5686,\n",
       "           0.8078,  0.7098,  0.7412,  0.7608,  0.7255,  0.8588,  0.1804],\n",
       "         [ 0.0000,  0.1098,  0.4431,  0.6353,  0.7804,  0.8824,  0.9529,\n",
       "           0.9490,  0.9333,  0.9137,  0.8941,  0.8941,  0.9373,  0.9294,\n",
       "           0.6235,  0.1176,  0.0000,  0.0000,  0.0000,  0.0000,  0.6235,\n",
       "           0.9882,  0.7725,  0.8353,  0.8392,  0.8118,  0.9216,  0.1608],\n",
       "         [ 0.0000,  0.0000,  0.0000,  0.0000,  0.0000,  0.0000,  0.0471,\n",
       "           0.1686,  0.2549,  0.3765,  0.4667,  0.3843,  0.2588,  0.0000,\n",
       "           0.0000,  0.0000,  0.0000,  0.0039,  0.0000,  0.0000,  0.2863,\n",
       "           0.8627,  0.6627,  0.6824,  0.6824,  0.6941,  0.6980,  0.0000],\n",
       "         [ 0.0000,  0.0000,  0.0000,  0.0000,  0.0000,  0.0000,  0.0000,\n",
       "           0.0000,  0.0000,  0.0000,  0.0000,  0.0000,  0.0000,  0.0000,\n",
       "           0.0000,  0.0000,  0.0000,  0.0000,  0.0000,  0.0000,  0.0000,\n",
       "           0.0000,  0.0000,  0.0000,  0.0000,  0.0000,  0.0000,  0.0000],\n",
       "         [ 0.0000,  0.0000,  0.0000,  0.0000,  0.0000,  0.0000,  0.0000,\n",
       "           0.0000,  0.0000,  0.0000,  0.0000,  0.0000,  0.0000,  0.0000,\n",
       "           0.0000,  0.0000,  0.0000,  0.0000,  0.0000,  0.0000,  0.0000,\n",
       "           0.0000,  0.0000,  0.0000,  0.0000,  0.0000,  0.0000,  0.0000],\n",
       "         [ 0.0000,  0.0000,  0.0000,  0.0000,  0.0000,  0.0000,  0.0000,\n",
       "           0.0000,  0.0000,  0.0000,  0.0000,  0.0000,  0.0000,  0.0000,\n",
       "           0.0000,  0.0000,  0.0000,  0.0000,  0.0000,  0.0000,  0.0000,\n",
       "           0.0000,  0.0000,  0.0000,  0.0000,  0.0000,  0.0000,  0.0000],\n",
       "         [ 0.0000,  0.0000,  0.0000,  0.0000,  0.0000,  0.0000,  0.0000,\n",
       "           0.0000,  0.0000,  0.0000,  0.0000,  0.0000,  0.0000,  0.0000,\n",
       "           0.0000,  0.0000,  0.0000,  0.0000,  0.0000,  0.0000,  0.0000,\n",
       "           0.0000,  0.0000,  0.0000,  0.0000,  0.0000,  0.0000,  0.0000]]])"
      ]
     },
     "execution_count": 14,
     "metadata": {},
     "output_type": "execute_result"
    }
   ],
   "source": [
    "img"
   ]
  },
  {
   "cell_type": "code",
   "execution_count": null,
   "metadata": {},
   "outputs": [],
   "source": []
  }
 ],
 "metadata": {
  "kernelspec": {
   "display_name": "Python 3",
   "language": "python",
   "name": "python3"
  },
  "language_info": {
   "codemirror_mode": {
    "name": "ipython",
    "version": 3
   },
   "file_extension": ".py",
   "mimetype": "text/x-python",
   "name": "python",
   "nbconvert_exporter": "python",
   "pygments_lexer": "ipython3",
   "version": "3.5.2"
  }
 },
 "nbformat": 4,
 "nbformat_minor": 2
}
